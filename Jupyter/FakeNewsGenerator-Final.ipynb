{
 "cells": [
  {
   "cell_type": "code",
   "execution_count": 0,
   "metadata": {
    "colab": {
     "base_uri": "https://localhost:8080/",
     "height": 1000
    },
    "colab_type": "code",
    "id": "gbpP2uBQMo7I",
    "outputId": "3f17c482-0f4e-4166-b63c-dfb7d9c56df5"
   },
   "outputs": [
    {
     "name": "stdout",
     "output_type": "stream",
     "text": [
      "Collecting tensorflow\n",
      "\u001b[?25l  Downloading https://files.pythonhosted.org/packages/85/d4/c0cd1057b331bc38b65478302114194bd8e1b9c2bbc06e300935c0e93d90/tensorflow-2.1.0-cp36-cp36m-manylinux2010_x86_64.whl (421.8MB)\n",
      "\u001b[K     |████████████████████████████████| 421.8MB 45kB/s \n",
      "\u001b[?25hRequirement already satisfied, skipping upgrade: opt-einsum>=2.3.2 in /usr/local/lib/python3.6/dist-packages (from tensorflow) (3.1.0)\n",
      "Requirement already satisfied, skipping upgrade: wrapt>=1.11.1 in /usr/local/lib/python3.6/dist-packages (from tensorflow) (1.11.2)\n",
      "Requirement already satisfied, skipping upgrade: keras-preprocessing>=1.1.0 in /usr/local/lib/python3.6/dist-packages (from tensorflow) (1.1.0)\n",
      "Requirement already satisfied, skipping upgrade: google-pasta>=0.1.6 in /usr/local/lib/python3.6/dist-packages (from tensorflow) (0.1.8)\n",
      "Requirement already satisfied, skipping upgrade: wheel>=0.26; python_version >= \"3\" in /usr/local/lib/python3.6/dist-packages (from tensorflow) (0.34.2)\n",
      "Requirement already satisfied, skipping upgrade: astor>=0.6.0 in /usr/local/lib/python3.6/dist-packages (from tensorflow) (0.8.1)\n",
      "Requirement already satisfied, skipping upgrade: gast==0.2.2 in /usr/local/lib/python3.6/dist-packages (from tensorflow) (0.2.2)\n",
      "Requirement already satisfied, skipping upgrade: numpy<2.0,>=1.16.0 in /usr/local/lib/python3.6/dist-packages (from tensorflow) (1.17.5)\n",
      "Collecting tensorboard<2.2.0,>=2.1.0\n",
      "\u001b[?25l  Downloading https://files.pythonhosted.org/packages/d9/41/bbf49b61370e4f4d245d4c6051dfb6db80cec672605c91b1652ac8cc3d38/tensorboard-2.1.1-py3-none-any.whl (3.8MB)\n",
      "\u001b[K     |████████████████████████████████| 3.9MB 38.3MB/s \n",
      "\u001b[?25hCollecting tensorflow-estimator<2.2.0,>=2.1.0rc0\n",
      "\u001b[?25l  Downloading https://files.pythonhosted.org/packages/18/90/b77c328a1304437ab1310b463e533fa7689f4bfc41549593056d812fab8e/tensorflow_estimator-2.1.0-py2.py3-none-any.whl (448kB)\n",
      "\u001b[K     |████████████████████████████████| 450kB 46.2MB/s \n",
      "\u001b[?25hRequirement already satisfied, skipping upgrade: protobuf>=3.8.0 in /usr/local/lib/python3.6/dist-packages (from tensorflow) (3.10.0)\n",
      "Requirement already satisfied, skipping upgrade: absl-py>=0.7.0 in /usr/local/lib/python3.6/dist-packages (from tensorflow) (0.9.0)\n",
      "Requirement already satisfied, skipping upgrade: termcolor>=1.1.0 in /usr/local/lib/python3.6/dist-packages (from tensorflow) (1.1.0)\n",
      "Requirement already satisfied, skipping upgrade: grpcio>=1.8.6 in /usr/local/lib/python3.6/dist-packages (from tensorflow) (1.27.1)\n",
      "Requirement already satisfied, skipping upgrade: six>=1.12.0 in /usr/local/lib/python3.6/dist-packages (from tensorflow) (1.12.0)\n",
      "Requirement already satisfied, skipping upgrade: scipy==1.4.1; python_version >= \"3\" in /usr/local/lib/python3.6/dist-packages (from tensorflow) (1.4.1)\n",
      "Requirement already satisfied, skipping upgrade: keras-applications>=1.0.8 in /usr/local/lib/python3.6/dist-packages (from tensorflow) (1.0.8)\n",
      "Requirement already satisfied, skipping upgrade: setuptools>=41.0.0 in /usr/local/lib/python3.6/dist-packages (from tensorboard<2.2.0,>=2.1.0->tensorflow) (45.2.0)\n",
      "Requirement already satisfied, skipping upgrade: requests<3,>=2.21.0 in /usr/local/lib/python3.6/dist-packages (from tensorboard<2.2.0,>=2.1.0->tensorflow) (2.21.0)\n",
      "Requirement already satisfied, skipping upgrade: google-auth<2,>=1.6.3 in /usr/local/lib/python3.6/dist-packages (from tensorboard<2.2.0,>=2.1.0->tensorflow) (1.7.2)\n",
      "Requirement already satisfied, skipping upgrade: google-auth-oauthlib<0.5,>=0.4.1 in /usr/local/lib/python3.6/dist-packages (from tensorboard<2.2.0,>=2.1.0->tensorflow) (0.4.1)\n",
      "Requirement already satisfied, skipping upgrade: markdown>=2.6.8 in /usr/local/lib/python3.6/dist-packages (from tensorboard<2.2.0,>=2.1.0->tensorflow) (3.2.1)\n",
      "Requirement already satisfied, skipping upgrade: werkzeug>=0.11.15 in /usr/local/lib/python3.6/dist-packages (from tensorboard<2.2.0,>=2.1.0->tensorflow) (1.0.0)\n",
      "Requirement already satisfied, skipping upgrade: h5py in /usr/local/lib/python3.6/dist-packages (from keras-applications>=1.0.8->tensorflow) (2.8.0)\n",
      "Requirement already satisfied, skipping upgrade: urllib3<1.25,>=1.21.1 in /usr/local/lib/python3.6/dist-packages (from requests<3,>=2.21.0->tensorboard<2.2.0,>=2.1.0->tensorflow) (1.24.3)\n",
      "Requirement already satisfied, skipping upgrade: chardet<3.1.0,>=3.0.2 in /usr/local/lib/python3.6/dist-packages (from requests<3,>=2.21.0->tensorboard<2.2.0,>=2.1.0->tensorflow) (3.0.4)\n",
      "Requirement already satisfied, skipping upgrade: idna<2.9,>=2.5 in /usr/local/lib/python3.6/dist-packages (from requests<3,>=2.21.0->tensorboard<2.2.0,>=2.1.0->tensorflow) (2.8)\n",
      "Requirement already satisfied, skipping upgrade: certifi>=2017.4.17 in /usr/local/lib/python3.6/dist-packages (from requests<3,>=2.21.0->tensorboard<2.2.0,>=2.1.0->tensorflow) (2019.11.28)\n",
      "Requirement already satisfied, skipping upgrade: rsa<4.1,>=3.1.4 in /usr/local/lib/python3.6/dist-packages (from google-auth<2,>=1.6.3->tensorboard<2.2.0,>=2.1.0->tensorflow) (4.0)\n",
      "Requirement already satisfied, skipping upgrade: pyasn1-modules>=0.2.1 in /usr/local/lib/python3.6/dist-packages (from google-auth<2,>=1.6.3->tensorboard<2.2.0,>=2.1.0->tensorflow) (0.2.8)\n",
      "Requirement already satisfied, skipping upgrade: cachetools<3.2,>=2.0.0 in /usr/local/lib/python3.6/dist-packages (from google-auth<2,>=1.6.3->tensorboard<2.2.0,>=2.1.0->tensorflow) (3.1.1)\n",
      "Requirement already satisfied, skipping upgrade: requests-oauthlib>=0.7.0 in /usr/local/lib/python3.6/dist-packages (from google-auth-oauthlib<0.5,>=0.4.1->tensorboard<2.2.0,>=2.1.0->tensorflow) (1.3.0)\n",
      "Requirement already satisfied, skipping upgrade: pyasn1>=0.1.3 in /usr/local/lib/python3.6/dist-packages (from rsa<4.1,>=3.1.4->google-auth<2,>=1.6.3->tensorboard<2.2.0,>=2.1.0->tensorflow) (0.4.8)\n",
      "Requirement already satisfied, skipping upgrade: oauthlib>=3.0.0 in /usr/local/lib/python3.6/dist-packages (from requests-oauthlib>=0.7.0->google-auth-oauthlib<0.5,>=0.4.1->tensorboard<2.2.0,>=2.1.0->tensorflow) (3.1.0)\n",
      "Installing collected packages: tensorboard, tensorflow-estimator, tensorflow\n",
      "  Found existing installation: tensorboard 1.15.0\n",
      "    Uninstalling tensorboard-1.15.0:\n",
      "      Successfully uninstalled tensorboard-1.15.0\n",
      "  Found existing installation: tensorflow-estimator 1.15.1\n",
      "    Uninstalling tensorflow-estimator-1.15.1:\n",
      "      Successfully uninstalled tensorflow-estimator-1.15.1\n",
      "  Found existing installation: tensorflow 1.15.0\n",
      "    Uninstalling tensorflow-1.15.0:\n",
      "      Successfully uninstalled tensorflow-1.15.0\n",
      "Successfully installed tensorboard-2.1.1 tensorflow-2.1.0 tensorflow-estimator-2.1.0\n"
     ]
    },
    {
     "data": {
      "application/vnd.colab-display-data+json": {
       "pip_warning": {
        "packages": [
         "tensorboard",
         "tensorflow",
         "tensorflow_core",
         "tensorflow_estimator"
        ]
       }
      }
     },
     "metadata": {
      "tags": []
     },
     "output_type": "display_data"
    }
   ],
   "source": [
    "!pip install tensorflow --upgrade"
   ]
  },
  {
   "cell_type": "code",
   "execution_count": 0,
   "metadata": {
    "colab": {},
    "colab_type": "code",
    "id": "ah1t3kfLneKv"
   },
   "outputs": [],
   "source": [
    "from __future__ import absolute_import, division, print_function, unicode_literals\n",
    "\n",
    "import tensorflow as tf\n",
    "\n",
    "import numpy as np\n",
    "import os\n",
    "import time\n",
    "\n",
    "#tf.enable_eager_execution()"
   ]
  },
  {
   "cell_type": "code",
   "execution_count": 0,
   "metadata": {
    "colab": {
     "base_uri": "https://localhost:8080/",
     "height": 35
    },
    "colab_type": "code",
    "id": "kIGREf8fsHsr",
    "outputId": "a9694153-f464-4808-f6a0-51d728de2991"
   },
   "outputs": [
    {
     "name": "stdout",
     "output_type": "stream",
     "text": [
      "Found GPU at: /device:GPU:0\n"
     ]
    }
   ],
   "source": [
    "import tensorflow as tf\n",
    "device_name = tf.test.gpu_device_name()\n",
    "if device_name != '/device:GPU:0':\n",
    "  raise SystemError('GPU device not found')\n",
    "print('Found GPU at: {}'.format(device_name))"
   ]
  },
  {
   "cell_type": "code",
   "execution_count": 0,
   "metadata": {
    "colab": {},
    "colab_type": "code",
    "id": "ND26A4ZXnm0h"
   },
   "outputs": [],
   "source": [
    "import pandas as pd\n",
    "from tqdm import tqdm\n",
    "\n",
    "import warnings\n",
    "warnings.filterwarnings(\"ignore\")"
   ]
  },
  {
   "cell_type": "code",
   "execution_count": 0,
   "metadata": {
    "colab": {
     "base_uri": "https://localhost:8080/",
     "height": 35
    },
    "colab_type": "code",
    "id": "3H4HqcY0nrNN",
    "outputId": "9cf47a17-2e7d-4e7c-d8fa-28112f861f5c"
   },
   "outputs": [
    {
     "name": "stdout",
     "output_type": "stream",
     "text": [
      "Mounted at /content/drive\n"
     ]
    }
   ],
   "source": [
    "from google.colab import drive\n",
    "drive.mount('/content/drive', force_remount=True)"
   ]
  },
  {
   "cell_type": "markdown",
   "metadata": {
    "colab_type": "text",
    "id": "ijGYN-iire9N"
   },
   "source": [
    "## Data Cleaning"
   ]
  },
  {
   "cell_type": "code",
   "execution_count": 0,
   "metadata": {
    "colab": {},
    "colab_type": "code",
    "id": "WTr01tz-oNRM"
   },
   "outputs": [],
   "source": [
    "# read the data files\n",
    "\n",
    "df=pd.read_csv(\"drive/My Drive/Colab Notebooks/articles1.csv\")\n",
    "\n",
    "df2=pd.read_csv(\"drive/My Drive/Colab Notebooks/articles2.csv\")\n",
    "\n",
    "df3=pd.read_csv(\"drive/My Drive/Colab Notebooks/articles3.csv\")"
   ]
  },
  {
   "cell_type": "code",
   "execution_count": 0,
   "metadata": {
    "colab": {},
    "colab_type": "code",
    "id": "nn7heXFZocZT"
   },
   "outputs": [],
   "source": [
    "## combine the dfs\n",
    "\n",
    "df=pd.concat([df,df2])\n",
    "\n",
    "df=pd.concat([df,df3])"
   ]
  },
  {
   "cell_type": "code",
   "execution_count": 0,
   "metadata": {
    "colab": {
     "base_uri": "https://localhost:8080/",
     "height": 213
    },
    "colab_type": "code",
    "id": "957NJatxo622",
    "outputId": "0b028192-a7e7-439b-b3a9-fa644c6eb9b7"
   },
   "outputs": [
    {
     "data": {
      "text/html": [
       "<div>\n",
       "<style scoped>\n",
       "    .dataframe tbody tr th:only-of-type {\n",
       "        vertical-align: middle;\n",
       "    }\n",
       "\n",
       "    .dataframe tbody tr th {\n",
       "        vertical-align: top;\n",
       "    }\n",
       "\n",
       "    .dataframe thead th {\n",
       "        text-align: right;\n",
       "    }\n",
       "</style>\n",
       "<table border=\"1\" class=\"dataframe\">\n",
       "  <thead>\n",
       "    <tr style=\"text-align: right;\">\n",
       "      <th></th>\n",
       "      <th>Unnamed: 0</th>\n",
       "      <th>id</th>\n",
       "      <th>title</th>\n",
       "      <th>publication</th>\n",
       "      <th>author</th>\n",
       "      <th>date</th>\n",
       "      <th>year</th>\n",
       "      <th>month</th>\n",
       "      <th>url</th>\n",
       "      <th>content</th>\n",
       "    </tr>\n",
       "  </thead>\n",
       "  <tbody>\n",
       "    <tr>\n",
       "      <th>0</th>\n",
       "      <td>0</td>\n",
       "      <td>17283</td>\n",
       "      <td>House Republicans Fret About Winning Their Hea...</td>\n",
       "      <td>New York Times</td>\n",
       "      <td>Carl Hulse</td>\n",
       "      <td>2016-12-31</td>\n",
       "      <td>2016.0</td>\n",
       "      <td>12.0</td>\n",
       "      <td>NaN</td>\n",
       "      <td>WASHINGTON  —   Congressional Republicans have...</td>\n",
       "    </tr>\n",
       "    <tr>\n",
       "      <th>1</th>\n",
       "      <td>1</td>\n",
       "      <td>17284</td>\n",
       "      <td>Rift Between Officers and Residents as Killing...</td>\n",
       "      <td>New York Times</td>\n",
       "      <td>Benjamin Mueller and Al Baker</td>\n",
       "      <td>2017-06-19</td>\n",
       "      <td>2017.0</td>\n",
       "      <td>6.0</td>\n",
       "      <td>NaN</td>\n",
       "      <td>After the bullet shells get counted, the blood...</td>\n",
       "    </tr>\n",
       "    <tr>\n",
       "      <th>2</th>\n",
       "      <td>2</td>\n",
       "      <td>17285</td>\n",
       "      <td>Tyrus Wong, ‘Bambi’ Artist Thwarted by Racial ...</td>\n",
       "      <td>New York Times</td>\n",
       "      <td>Margalit Fox</td>\n",
       "      <td>2017-01-06</td>\n",
       "      <td>2017.0</td>\n",
       "      <td>1.0</td>\n",
       "      <td>NaN</td>\n",
       "      <td>When Walt Disney’s “Bambi” opened in 1942, cri...</td>\n",
       "    </tr>\n",
       "  </tbody>\n",
       "</table>\n",
       "</div>"
      ],
      "text/plain": [
       "   Unnamed: 0     id  ...  url                                            content\n",
       "0           0  17283  ...  NaN  WASHINGTON  —   Congressional Republicans have...\n",
       "1           1  17284  ...  NaN  After the bullet shells get counted, the blood...\n",
       "2           2  17285  ...  NaN  When Walt Disney’s “Bambi” opened in 1942, cri...\n",
       "\n",
       "[3 rows x 10 columns]"
      ]
     },
     "execution_count": 8,
     "metadata": {
      "tags": []
     },
     "output_type": "execute_result"
    }
   ],
   "source": [
    "df.head(3)"
   ]
  },
  {
   "cell_type": "code",
   "execution_count": 0,
   "metadata": {
    "colab": {},
    "colab_type": "code",
    "id": "Qj6Yogx8o-Bd"
   },
   "outputs": [],
   "source": [
    "## create a list containing the text of the articles\n",
    "\n",
    "y=[]\n",
    "for i in df.loc[:,\"content\"].values:\n",
    "    y.append(i)"
   ]
  },
  {
   "cell_type": "code",
   "execution_count": 0,
   "metadata": {
    "colab": {
     "base_uri": "https://localhost:8080/",
     "height": 105
    },
    "colab_type": "code",
    "id": "ZBNKGlEtq0UT",
    "outputId": "814c1f98-1a93-4a60-b82b-c8f6b2a4153c"
   },
   "outputs": [
    {
     "data": {
      "text/plain": [
       "['WASHINGTON  —   Congressional Republicans have a new fear when it comes to their    health care lawsuit against the Obama administration: They might win. The incoming Trump administration could choose to no longer defend the executive branch against the suit, which challenges the administration’s authority to spend billions of dollars on health insurance subsidies for   and   Americans, handing House Republicans a big victory on    issues. But a sudden loss of the disputed subsidies could conceivably cause the health care program to implode, leaving millions of people without access to health insurance before Republicans have prepared a replacement. That could lead to chaos in the insurance market and spur a political backlash just as Republicans gain full control of the government. To stave off that outcome, Republicans could find themselves in the awkward position of appropriating huge sums to temporarily prop up the Obama health care law, angering conservative voters who have been demanding an end to the law for years. In another twist, Donald J. Trump’s administration, worried about preserving executive branch prerogatives, could choose to fight its Republican allies in the House on some central questions in the dispute. Eager to avoid an ugly political pileup, Republicans on Capitol Hill and the Trump transition team are gaming out how to handle the lawsuit, which, after the election, has been put in limbo until at least late February by the United States Court of Appeals for the District of Columbia Circuit. They are not yet ready to divulge their strategy. “Given that this pending litigation involves the Obama administration and Congress, it would be inappropriate to comment,” said Phillip J. Blando, a spokesman for the Trump transition effort. “Upon taking office, the Trump administration will evaluate this case and all related aspects of the Affordable Care Act. ” In a potentially   decision in 2015, Judge Rosemary M. Collyer ruled that House Republicans had the standing to sue the executive branch over a spending dispute and that the Obama administration had been distributing the health insurance subsidies, in violation of the Constitution, without approval from Congress. The Justice Department, confident that Judge Collyer’s decision would be reversed, quickly appealed, and the subsidies have remained in place during the appeal. In successfully seeking a temporary halt in the proceedings after Mr. Trump won, House Republicans last month told the court that they “and the  ’s transition team currently are discussing potential options for resolution of this matter, to take effect after the  ’s inauguration on Jan. 20, 2017. ” The suspension of the case, House lawyers said, will “provide the   and his future administration time to consider whether to continue prosecuting or to otherwise resolve this appeal. ” Republican leadership officials in the House acknowledge the possibility of “cascading effects” if the   payments, which have totaled an estimated $13 billion, are suddenly stopped. Insurers that receive the subsidies in exchange for paying    costs such as deductibles and   for eligible consumers could race to drop coverage since they would be losing money. Over all, the loss of the subsidies could destabilize the entire program and cause a lack of confidence that leads other insurers to seek a quick exit as well. Anticipating that the Trump administration might not be inclined to mount a vigorous fight against the House Republicans given the  ’s dim view of the health care law, a team of lawyers this month sought to intervene in the case on behalf of two participants in the health care program. In their request, the lawyers predicted that a deal between House Republicans and the new administration to dismiss or settle the case “will produce devastating consequences for the individuals who receive these reductions, as well as for the nation’s health insurance and health care systems generally. ” No matter what happens, House Republicans say, they want to prevail on two overarching concepts: the congressional power of the purse, and the right of Congress to sue the executive branch if it violates the Constitution regarding that spending power. House Republicans contend that Congress never appropriated the money for the subsidies, as required by the Constitution. In the suit, which was initially championed by John A. Boehner, the House speaker at the time, and later in House committee reports, Republicans asserted that the administration, desperate for the funding, had required the Treasury Department to provide it despite widespread internal skepticism that the spending was proper. The White House said that the spending was a permanent part of the law passed in 2010, and that no annual appropriation was required  —   even though the administration initially sought one. Just as important to House Republicans, Judge Collyer found that Congress had the standing to sue the White House on this issue  —   a ruling that many legal experts said was flawed  —   and they want that precedent to be set to restore congressional leverage over the executive branch. But on spending power and standing, the Trump administration may come under pressure from advocates of presidential authority to fight the House no matter their shared views on health care, since those precedents could have broad repercussions. It is a complicated set of dynamics illustrating how a quick legal victory for the House in the Trump era might come with costs that Republicans never anticipated when they took on the Obama White House.',\n",
       " 'After the bullet shells get counted, the blood dries and the votive candles burn out, people peer down from   windows and see crime scenes gone cold: a band of yellow police tape blowing in the breeze. The South Bronx, just across the Harlem River from Manhattan and once shorthand for urban dysfunction, still suffers violence at levels long ago slashed in many other parts of New York City. And yet the city’s efforts to fight it remain splintered, underfunded and burdened by scandal. In the 40th Precinct, at the southern tip of the Bronx, as in other poor, minority neighborhoods across the country, people long hounded for   infractions are crying out for more protection against grievous injury or death. By September, four of every five shootings in the precinct this year were unsolved. Out of the city’s 77 precincts, the 40th has the highest murder rate but the fewest detectives per violent crime, reflecting disparities in staffing that hit hardest in some neighborhoods outside Manhattan, according to a New York Times analysis of Police Department data. Investigators in the precinct are saddled with twice the number of cases the department recommends, even as their bosses are called to Police Headquarters to answer for the sharpest crime rise in the city this year. And across the Bronx, investigative resources are squeezed. It has the highest   rate of the city’s five boroughs but the thinnest detective staffing. Nine of the 14   precinct detective squads for violent crime in the city are there. The borough’s robbery squad is smaller than Manhattan’s, even though the Bronx has had 1, 300 more cases this year. And its homicide squad has one detective for every four murders, compared with one detective for roughly every two murders in Upper Manhattan and more than one detective per murder in Lower Manhattan. In   lobbies and   family apartments, outside methadone clinics and art studios, people take note of the inequity. They hear police commanders explain that they lack the resources to place a floodlight on a dangerous block or to post officers at a   corner. They watch witnesses cower behind   doors, more fearful of a gunman’s crew than confident in the Police Department’s ability to protect them. So though people see a lot, they rarely testify. And in the South Bronx, as in so many predominantly black and Hispanic neighborhoods like it in the United States, the contract between the police and the community is in tatters. Some people have stories of crime reports that were ignored, or 911 calls that went unanswered for hours. Others tell of a 911 call for help ending in the caller’s arrest, or of a minor charge leading to 12 hours in a fetid holding cell. This is the paradox of policing in the 40th Precinct. Its neighborhoods have historically been prime targets for aggressive tactics, like    that are designed to ward off disorder. But precinct detectives there have less time than anywhere else in the city to answer for the blood spilled in violent crimes. Gola White, who was beside her daughter when she was shot and killed in a playground this summer, four years after her son was gunned down in the same housing project, ticked off the public safety resources that she said were scant in Bronx neighborhoods like hers: security cameras, lights, locks, investigating police officers. “Here, we have nothing,” she said. When it comes to “  families,” she said, the authorities “don’t really care as much. That’s how I feel. ” The Times has been documenting the murders logged this year in the 40th Precinct, one of a handful of neighborhoods where deadly violence remains a problem in an era of   crime in New York City. The homicides  —   14 in the precinct this year, up from nine in 2015  —   strain detectives, and when they go unsolved, as half of them have this year, some look to take the law into their own hands. From hundreds of conversations with grieving relatives and friends, witnesses and police officers, the social forces that flare into murder in a place like the 40th Precinct become clearer: merciless gang codes, mental illness, drugs and long memories of feuds that simmered out of officers’ view. The reasons some murders will never be solved also emerge: paralyzing fear of retribution, victims carrying secrets to their graves and relentless casework that forces detectives to move on in hopes that a break will come later. Frustrations build on all sides. Detectives’ phones rarely ring with tips, and officers grow embittered with witnesses who will not cooperate. In the meantime, a victim’s friends conduct their own investigations, and talk of grabbing a stash gun from a wheel well or a mother’s apartment when they find their suspect. In the chasm between the police and the community, gangs and gun violence flourish. Parents try to protect their families from drug crews’ threats, and officers work to overcome the residue of years of mistrust and understaffing in communities where they still go racing from one 911 call to the next. The streets around St. Mary’s Park were the scene of two fatal shootings logged in the 40th Precinct this year. Both are unsolved. James Fernandez heard talk of the murders through the door of his   apartment on East 146th Street in a     the Betances Houses. He lived at the end of a long hallway strewn with hypodermic needles, empty dope bags and discarded Hennessy bottles. A   young men who spoke of being in a subset of the Bloods gang had made it their drug market, slinging marijuana and cocaine to regulars, flashing firearms and blowing smoke into the Fernandez apartment. When Mr. Fernandez, 40, asked the young men to move, they answered by busting up his car. This kind of crime, an anachronism in much of New York, still rattles the 40th Precinct, even though murders there have fallen to 14 this year from 83 in 1991. It has more major felony crimes per resident than any other residential district in the city. It is also one of the poorest communities in the country, and many young men find their way into underground markets. Mr. Fernandez was not one to shrink from the threats. When he was growing up on the Lower East Side, he rode his bicycle around to the customers of the drug dealers he worked for and collected payments in a backpack. After leaving that life, he got a tech maintenance job and, three years ago, moved into the Betances Houses with his wife and daughter, now 11. He had two choices to get help with the drug crew: call the police for help and risk being labeled a snitch, or call his old Lower East Side bosses for muscle and risk violence. He chose the police. Again and again, he walked into a local substation, Police Service Area 7, and asked for protection. His daughter was using an inhaler to relieve coughs from the marijuana smoke. Mr. Fernandez and his wife got terrible headaches. “There’s a lot of killers here, and we are going to kill you,” a sergeant’s police report quoted a    telling Mr. Fernandez in August 2015. A second report filed the same day said a    warned him, “I’m going to shoot through your window. ” Mr. Fernandez told the police both the teenagers’ names, which appear in the reports, and then went home. He said one of their friends had seen him walk into the substation, and they tried to intimidate him out of filing another report. Three days later, the same    propped his bike on their door, “then said if I was to open the door and say something, they would body slam me,” Mr. Fernandez’s wife, Maria Fernandez, wrote on slips of paper she used to document the hallway ruckus and the inadequate police response. The boys made comments about how easy a target she was and about how they would have to “slap” her if she opened the door while they made a drug sale, and they threatened to beat the Fernandez family because “they are the ones snitching,” her notes say. But another   complaint at the substation, 10 days after the first, brought no relief. A week later, feeling desperate, Ms. Fernandez tried calling: first to the substation, at 8:50 p. m. when one of the boys blew weed smoke at her door and made a   threat to attack her, and then to 911 at 10:36 p. m. The police never came, she wrote in her notes. She tried the 40th Precinct station house next, but officers at the desk left her standing in the public waiting area for a   she said, making her fear being seen again. Officers put her in worse danger some months later, she said, when they came to her door and announced in front of the teenagers that they were there on a complaint about drug activity. Mr. Fernandez started doing the work that he said the police had failed to do. He wired a camera into his peephole to record the drugs and guns. The footage hark back to the New York of the 1980s, still very much present to some of the precinct’s residents. Around 6:30 each morning, Sgt. Michael J. LoPuzzo walks through the tall wooden doors of the 40th Precinct station house. The cases that land on his metal desk  —   dead bodies with no known cause, strip club brawls, shooting victims hobbling into the hospital themselves  —   bring resistance at every turn, reminding him of an earlier era in the city’s   campaign. “I haven’t got one single phone call that’s putting me in the right direction here,” said Sergeant LoPuzzo, the head of the precinct’s detective squad, one day this summer as he worked on an answer to an email inquiry from a murder victim’s aunt about why the killer had not been caught. “And people just don’t understand that. ” Often it is detectives who most feel the effects of people turning on the police. Witnesses shout them away from their doors just so neighbors know they refuse to talk. Of the 184 people who were shot and wounded in the Bronx through early September, more than a third  —   66 victims  —   refused to cooperate. Over the same period in the 40th Precinct, squad detectives closed three of 17 nonfatal shootings, and 72 of 343 robbery cases. Part of the resistance stems from   preventive policing tactics, like    that were a hallmark of the     style under former Mayor Michael R. Bloomberg and his police commissioner, Raymond W. Kelly. Near the height of the    strategy, in 2012, the 40th Precinct had the   stops in the city, the   stops in which officers used force and the most frisks. Of 18, 276 stops that year, 15, 521 were of people who had done nothing criminal. The precinct was also one of the   areas that the department flooded with its newest officers. At roll calls, they were pressured to generate numbers: write tickets and make arrests. They had no choice but to give a summons to a young man playing in a park after dark, even if the officers had done the same growing up in the same neighborhood. “I need to bring something in today to justify my existence,” Officer Argenis Rosado, who joined the precinct in 2010, said in an interview at the station house. “So now you’re in a small area, and day after day you’re hammering the same community. Of course that community’s eventually going to turn on you. ” The pressure warped the way officers and residents saw each other. Rookies had to ignore why someone might be drinking outside or sitting on a stoop. “Some of the cops that came out at that time probably viewed the community differently, too,” said Hector Espada, a   veteran of the precinct. “Not because they wanted to, but because they had to. Because some way or somehow, you can’t give someone a $115 summons and feel like you guys could still have a civil conversation after that. ” Morale wilted in the aged station house on Alexander Avenue, in Mott Haven. Officers felt pressure to downgrade crime complaints to make them appear less serious. Several said in interviews that they had overlooked crime reports from immigrants because they were seen as unlikely to complain, and watched supervisors badger victims into repeating their stories in hopes that they would drop their complaints. The practice of downgrading complaints resulted in the disciplining of 19 officers in the precinct last year, one in a string of scandals that has left officers there feeling overscrutinized for problems that also existed elsewhere. Four commanders in the precinct were sent packing in five years, one of them after officers were found to be “ticket fixing,” or forgiving parking tickets for friends, and another after he was recorded giving guidance on whom to stop and frisk: black boys and men, ages 14 to 21. Some officers fled to other commands. Others became reluctant to take assignments in proactive policing units, like   that put them in   situations on the street. “Whenever I walked through the doors of the precinct, to me, it seemed like a black cloud,” said Russell Lewis, a    of the 40th. “It was like a heaviness. When you walked in, all you wanted to do was do your 8 hours 35 minutes and go home, because you didn’t want to get caught up in anything. ” The precinct covers only about two square miles, but the more than a dozen housing projects there mean that it overflows with people. Methadone clinics draw addicts from around the city.   lofts on the southern edge of the precinct presage a wave of gentrification. Even as the Police Department has hired 1, 300 more officers for neighborhood policing and counterterrorism, officers in the 40th Precinct said they could still rush to 25 911 calls during a shift  —   a number unchanged from what the new police commissioner, James P. O’Neill, said he was handling in a similar South Bronx precinct 15 years ago. Several dozen calls at a time can be waiting for a response. Residents know that if you want the police for a domestic problem, it helps to hint that there is a weapon. Last year, the precinct drew the   number of civilian complaints for officer misconduct in the city, and the most lawsuits stemming from police actions. The precinct is trying to improve morale under a new commanding officer, Deputy Inspector Brian Hennessy. A cadre of what the department calls neighborhood coordination officers has been on patrol since last January, part of a citywide effort under Mr. O’Neill and Mayor Bill de Blasio to bring back the beat cop, unencumbered by chasing every last 911 call, who can listen to people’s concerns and help with investigations. The precinct has made among the most gun arrests in the city, and officers said they now had more discretion to resolve encounters without a summons or an arrest. At one corner near a school, on Courtlandt Avenue and East 151st Street, that has long spawned complaints about gunfire and fights, Inspector Hennessy and some of his officers painted over graffiti and swept up drug paraphernalia this summer. People said it was the first answer to their complaints in years. But the inspector acknowledged that the residue of   policing lingers. “That perception really sticks,” he said. The workload in the 40th Precinct is startling and reveals a gap in how detective squads are equipped to answer violent crime in Manhattan compared with the Bronx, Brooklyn and Queens. Three of the precinct’s 16 detectives are carrying more than 400 cases each this year, and many others have loads in the high 300s, even though the department advises 150 in violent precincts. When they are assigned a homicide, they typically have four days to investigate before dealing with other cases. Quieter precincts can give detectives a month with little distraction to investigate a murder. Detectives in the 40th Precinct have each handled an average of 79 violent felonies this year through    —   murders, rapes, felony assaults and robberies. By contrast, a detective in the precinct on the southern end of Staten Island carries nine such cases a detective in the precinct patrolling Union Square and Gramercy Park handles 16 and a detective in the precinct for most of Washington Heights handles 32, the citywide median. Last year, the 40th was the    for violent crime, with 65 cases per detective. In the Bronx as a whole, a precinct detective has carried an average of 58 violent felonies this year, compared with 27 in Manhattan, 37 in Brooklyn, 38 in Queens and 25 on Staten Island. Rape cases and robbery patterns are later sent to more specialized units, but precinct detectives do extensive initial work to interview victims, write reports and process evidence. Precincts in much of Manhattan, which are whiter and wealthier than the South Bronx, often have more property felonies, like stolen laptops or credit cards, and the police say those can be complex. But even accounting for those crimes, the 40th Precinct has some of the heaviest caseloads of overall crime per detective in the city. Michael Palladino, the head of the Detectives’ Endowment Association and a former Bronx officer, said staffing disparities affected the department’s efforts to build trust in communities like the South Bronx. Witnesses make a calculation, he said: “If I cooperate with the detectives, there’s so much work, there’s so few of them there, they won’t even get the chance to protect me, or they’ll be there too late when the retaliation comes. ” Sergeant LoPuzzo, who turned down a more prestigious post to stay in the 40th Precinct, said that his squad worked tirelessly to handle cases with the people he had, and that while every squad wanted more detectives, staffing needs for counterterrorism units and task forces had created new deployment challenges across the department. “We fight with the army we have, not the army we wish we had,” he said. Details of how the Police Department assigns its 36, 000 officers are closely held and constantly in flux, and the public has minimal information on how personnel are allocated. Presented with The Times’s analysis of confidential staffing data, the department’s chief of detectives, Robert K. Boyce, vowed to send more detectives to the 40th Precinct and said the department would reassess its deployment more broadly in troubled precincts. He said a recent decision to bring gang, narcotics and vice detectives under his command made it easier to shift personnel. Chief Boyce said the burdens on detectives went beyond felony crimes to include   and   cases. And he noted the support that precinct squads got from centralized units focusing on robberies, gangs or grand larcenies, for example. Major crime keeps pounding the 40th Precinct, at rates that in 2015 were only a tenth of a percent lower than in 2001, even as citywide crime dropped by more than a third over the same period. But the precinct’s detective squad shrank by about eight investigators during those years, according to staffing data obtained from the City Council through a Freedom of Information Law request. The squad covering Union Square and Gramercy Park, where crime dropped by a third over that period, grew by about 11 investigators. (The 40th Precinct was given an additional detective and four   investigators this summer, when it was already missing three detectives for illness or other reasons.) Retired detectives are skeptical that community relations alone can drive down crime in the city’s last “” the busiest precincts. Rather, they say, the Police Department should be dedicating more resources to providing the same sort of robust investigative response that seems standard in Manhattan. “Any crime in Manhattan has to be solved,” said Howard Landesberg, who was a 40th Precinct detective in the late 1980s. “The outer boroughs are, like, forgotten. ” Retired detectives said that understaffing made it harder to solve crimes in the Bronx, Brooklyn and Queens, where the higher prevalence of gang and drug killings already saddled investigators with cases in which people were not inclined to cooperate. Through   detectives had closed 67 percent of homicides in Manhattan and 76 percent of those in Staten Island this year, compared with 54 percent of those in the Bronx, 42 percent of those in Queens and 31 percent of those in Brooklyn. Of last year’s homicides, detectives cleared 71 percent in Manhattan, 63 percent in the Bronx, 62 percent in Queens, 57 percent in Staten Island and 31 percent in Brooklyn. “It’s the culture of the Police Department that they worry about Manhattan,” said Joseph L. Giacalone, a former sergeant in the Bronx Cold Case Squad, in part “because that’s where the money is. ” He added: “When de Blasio came in, he talked about the tale of two cities. And then he’s done the complete opposite of what he said. It’s just business as usual. ” The Bronx’s struggles extend into prosecutions. In each of the last five years, prosecutors in the Bronx have declined to prosecute violent felony cases more than anywhere else in the city. And the rate of conviction in the Bronx is routinely the lowest in the city as well, but has ticked up this year to surpass Brooklyn’s rate through November as Bronx prosecutors work to streamline cases. Some cases have become even more difficult to win because of the   problem in the 40th Precinct, which has allowed defense lawyers to attack the credibility of officers who were implicated, said Patrice O’Shaughnessy, a spokeswoman for the Bronx District Attorney’s office. The district attorney, Darcel D. Clark, elected in 2015, said in a statement, “I was a judge here in the Bronx, and I heard from jurors that they can’t be impartial because they don’t trust the police. ” Against that tide of mistrust, Sergeant LoPuzzo’s detectives work 36 hours straight on some fresh cases. They buy Chinese takeout with their own money for a murder suspect. They carry surveillance videos home in hopes that their personal computers may enhance them better than a squad computer. They buy an urn for a homeless mother who has her murdered son’s ashes in a box. In the months after a killing, they can seem like the only people in this glittering city who are paying attention to the 40th Precinct’s homicide victims. Newly fatherless children go back to school without a therapist’s help. Victims’ families wander confused through a courthouse and nearly miss an appearance. Newspapers largely ignore killings of people with criminal pasts, pushing them down the priority lists of the   chiefs at Police Headquarters. In a stuffy   squad room, the detectives of the 40th Precinct grapple with an inheritance of government neglect. They meet mothers who believe their sons might never have been murdered had a city guidance counselor listened to pleas to help them stay enrolled, or had a city housing worker fixed the locks or lights on a building. And the detectives work alongside a vicious system on the streets for punishing police cooperators. Young men scan court paperwork in prison, looking for the names of people who turned on them. One murder victim in the precinct this year was cast out of his crew after he avoided being arrested with them in a gang takedown some believed he was cooperating. A longtime 40th Precinct detective, Jeff Meenagh, said a witness in a homicide case was going to testify until he went back to his neighborhood and was told that anyone who testified would “get what you deserve. ” The allies Sergeant LoPuzzo makes are friendly only for so long. He helped clear a woman’s son of a robbery charge by locating surveillance video that proved he was not the robber. The mother started calling with tips under a code name  —   about a gun under a car, for example. But she always refused to testify. And she cut ties this year after Sergeant LoPuzzo arrested her son in the stabbing of two people and her   in a shooting. New York City owns East 146th Street and the   buildings on each side. But James Fernandez, in the Betances Houses, said the reality on the ground was different: The drug boss ran the block. By October, Mr. Fernandez was increasingly afraid  —   and fed up. Mr. Fernandez and his wife went so far as to give officers keys to the building door, so they could get in whenever they wanted, showed them the videos and offered them   access to his camera so they could see what was happening in the hallway. A couple of officers said they needed a supervisor’s permission to do more. Others answered that the young men were only making threats. Officers occasionally stopped outside their building, causing the young men to scatter, but did not come inside, Mr. Fernandez said. The menacing worsened. Mr. Fernandez’s daughter was harassed as she arrived home from school. She grew more and more distressed, and her parents had her start seeing a therapist. Mr. Fernandez made several complaints at the office of the borough president, Ruben Diaz Jr. and visited a victim’s advocate in the district attorney’s office. On Oct. 20, 2015, he sent an online note to the police commissioner’s office. “We went to all proper channels for help,” the note said. “Both precincts failed us, except 2 officers who helped us, but their hands are tied. No one else to turn to. I have months of video of multiple crimes taking place and we are in extreme danger. ” “40th and PSA 7 won’t do anything,” he wrote, referring to the local substation. “Please we need to speak to some one with authority. ” The local substation commander, Deputy Inspector Jerry O’Sullivan, and the Bronx narcotics unit were alerted to the complaints. But Mr. Fernandez said he never heard from them. So he relied on his own street instincts to protect his family. He made pleas to a man he thought was employing the dealers in the hallway. The activity quieted briefly, but it returned after the young men rented a room in a woman’s apartment upstairs. Mr. Fernandez approached a different man who he learned was the boss of the operation. The man agreed to ask the dealers to calm down. He even hired a drug customer to sweep the hallway, Mr. Fernandez said. But two weeks later, the dealing and the harassment resumed. So he went to his old Lower East Side bosses, who hired men to trail his wife and daughter on their way out of the building and make sure they made it safely to school. At other times they sat outside the Betances Houses. He also bought two bulletproof vests, for about $700 each. He could not find one small enough for his daughter. “I have no faith in the City of New York, I have no faith in the police, I have no faith in the politicians,” Mr. Fernandez said. “The only thing I know for sure: God, if we’re in a situation again, I will be left to defend my family. ” Paying such close attention to what was happening in the hallway, Mr. Fernandez said he learned some details about two recent homicides that the 40th Precinct was investigating. But because his calls for help were going nowhere, he said he decided not to put himself in greater risk by talking: He would not tell the police what he had learned. “I’m bending over backward, and nobody’s not even doing anything,” he said. “Why am I going to help you, if you ain’t going to help me?” By last January, a new neighborhood coordination officer was working with residents of the Betances Houses, and ended up with the most arrests in his housing command, Inspector O’Sullivan said. Chief Boyce said that the silos in which gang and narcotics detectives used to work made responding to complaints more difficult, but that the recent restructuring would remove those obstacles. “No one should live like Mr. Fernandez lived, with people dealing drugs outside of his apartment,” he said. Mr. Fernandez’s complaints did not spur any arrests, but two men from the hallway were caught separately this year in shootings. One of them, whom Mr. Fernandez named in a police report, was charged this summer with hitting an officer with a metal folding chair and firing three gunshots into a crowd, court papers say. He is being held on Rikers Island on an attempted murder charge. That was too late for Mr. Fernandez. By May, he had moved his family away.',\n",
       " 'When Walt Disney’s “Bambi” opened in 1942, critics praised its spare, haunting visual style, vastly different from anything Disney had done before. But what they did not know was that the film’s striking appearance had been created by a Chinese immigrant artist, who took as his inspiration the landscape paintings of the Song dynasty. The extent of his contribution to “Bambi,” which remains a   mark for film animation, would not be widely known for decades. Like the film’s title character, the artist, Tyrus Wong, weathered irrevocable separation from his mother  —   and, in the hope of making a life in America, incarceration, isolation and rigorous interrogation  —   all when he was still a child. In the years that followed, he endured poverty, discrimination and chronic lack of recognition, not only for his work at Disney but also for his fine art, before finding acclaim in his 90s. Mr. Wong died on Friday at 106. A Hollywood studio artist, painter, printmaker, calligrapher,   illustrator and, in later years, maker of fantastical kites, he was one of the most celebrated   artists of the 20th century. But because of the marginalization to which   were long subject, he passed much of his career unknown to the general public. Artistic recognition, when Mr. Wong did find it, was all the more noteworthy for the fact that among Chinese immigrant men of his generation, professional prospects were largely limited to menial jobs like houseboy and laundryman. Trained as a painter, Mr. Wong was a leading figure in the Modernist movement that flourished in California between the first and second World Wars. In 1932 and again in 1934, his work was included in group shows at the Art Institute of Chicago that also featured Picasso, Matisse and Paul Klee. As a staff artist for Hollywood studios from the 1930s to the 1960s, he drew storyboards and made vibrant paintings, as detailed as any architectural illustrations, that helped the director envision each scene before it was shot. Over the years his work informed the look of animated pictures for Disney and   films for Warner Brothers and other studios, among them “The Sands of Iwo Jima” (1949) “Rebel Without a Cause” (1955) and “The Wild Bunch” (1969). But of the dozens of films on which he worked, it was for “Bambi” that Mr. Wong was  —   belatedly  —   most renowned. “He was truly involved with every phase of production,” John Canemaker, an   animator and a historian of animation at New York University, said in an interview for this obituary in March. “He created an art direction that had really never been seen before in animation. ” In 2013 and 2014, Mr. Wong was the subject of “Water to Paper, Paint to Sky,” a major retrospective at the Disney Family Museum in San Francisco. From the museum’s windows, which overlook San Francisco Bay, he could contemplate Angel Island, where more than nine decades earlier, as a lone    he had sought to gain admission to a country that adamantly did not want him. Wong Gen Yeo (the name is sometimes Romanized Wong Gaing Yoo) was born on Oct. 25, 1910, in a farming village in Guangdong Province. As a young child, he already exhibited a love of drawing and was encouraged by his father. In 1920, seeking better economic prospects, Gen Yeo and his father embarked for the United States, leaving his mother and sister behind. Gen Yeo would never see his mother again. They were obliged to travel under false identities  —   a state of affairs known among Chinese immigrants as being a “paper son”  —   in the hope of circumventing the Chinese Exclusion Act of 1882. Signed into law by President Chester A. Arthur, the act, which drastically curtailed the number of Chinese people allowed to enter the country, was among the earliest United States laws to impose severe restrictions on immigration. But in 1906, an unforeseen loophole opened in the form of the San Francisco earthquake and fire. Because a huge number of municipal documents, including birth and immigration records, were destroyed, many newly arrived Chinese capitalized on the loss, maintaining that they had been born in San Francisco before the fire. As United States citizens, they were entitled to bring over their relatives  —   or, in the case of Gen Yeo and his father, “paper sons” posing as relatives. Attuned to the deception, United States immigration officials put Chinese arrivals through a formidable inquisition to ensure they were who they claimed to be. The questions came like gunfire: In which direction does your village face? How many windows are in your house? Where in the house is the rice bin? How wide is your well? How deep? Are there trees in your village? Are there lakes? What shops can you name? The sponsoring relative was interrogated separately, and the answers had to match. For the new arrival, a major mistake, or a series of smaller ones, could mean deportation. To stand a chance of passing, aspirants memorized rigorous dossiers known as coaching papers. The ensuing interrogation was hard enough for adults.    Gen Yeo would undergo it alone. On Dec. 30, 1920, after a month at sea, the Wongs landed at Angel Island Immigration Station. The elder Mr. Wong was traveling as a merchant named Look Get his son as Look Tai Yow. “Angel Island is considered to be the Ellis Island of the West Coast,” Lisa See, the author of “On Gold Mountain” (1995) a nonfiction chronicle of her   family, said in an interview in 2016. However, she continued: “The goal was really very different than Ellis Island, which was supposed to be so welcoming. Angel Island opened very specifically to keep the Chinese out. ” Because Mr. Wong’s father had previously lived in the United States as Look Get, he was able to clear Immigration quickly. But as a new arrival, Gen Yeo was detained on the island for nearly a month, the only child among the immigrants being held there. “I was scared half to death I just cried,” Mr. Wong recalled in “Tyrus,” an   documentary directed by Pamela Tom, which premiered in 2015. “Every day is just miserable  —   miserable. I hated that place. ” On Jan. 27, 1921, in the presence of an interpreter and a stenographer, young Gen Yeo, posing as Look Tai Yow, was interrogated by three inspectors. His father had already been questioned. Gen Yeo was well prepared and answered without error. In Sacramento, where he joined his father, a schoolteacher Americanized “Tai Yow” to “Tyrus,” and he was known as Tyrus Wong ever after. Soon afterward, father and son were separated once more, when the elder Mr. Wong moved to Los Angeles to seek work. For reasons that have been lost to time, he could not take his son. Tyrus lived on his own in a Sacramento boardinghouse while attending elementary school. Two years later  —   possibly more  —   Tyrus traveled to Los Angeles to join his father, who had found work in a gambling den. They lived in a   boardinghouse sandwiched between a butcher shop and a brothel. After school, Tyrus worked as a houseboy for two Pasadena families, earning 50 cents a day. His first art teacher was his father, who trained him nightly in calligraphy by having him dip a brush in water and trace ghostly characters on newspaper: They could not afford ink or drawing paper. When Tyrus was in junior high, a teacher, noting his drawing talent, arranged a summer scholarship to the Otis Art Institute in Los Angeles. By his own account an indifferent student in public school, Tyrus found his calling at the institute, now the Otis College of Art and Design. When his scholarship ended he declined to return to junior high. His father scraped together the $90 tuition  —   a small fortune  —   to let him stay on as Otis’s youngest student. He studied there for at least five years, simultaneously working as the school janitor, before graduating in the 1930s. Not long afterward his father died, leaving young Mr. Wong entirely on his own. From 1936 to 1938, Mr. Wong was an artist for the Works Progress Administration, creating paintings for libraries and other public spaces. With friends, including the   artist Benji Okubo, he founded the Oriental Artists’ Group of Los Angeles, which organized exhibitions of members’ work  —   an   level of exposure for Asian artists at the time. Mr. Wong, newly married and needing steady work, joined Disney in 1938 as an “” creating the thousands of intermediate drawings that bring animated sequences to life. Asians were then a novelty at Hollywood studios, and Mr. Wong was made keenly aware of the fact, first at Disney and later at Warner Brothers. One   flung a racial epithet at him. Another assumed on sight that he worked in the company cafeteria. Then there was the affront of the  ’s job itself: Painstaking, repetitive and for Mr. Wong quickly   it is the   work of animation  —   “a terrible use of his talents as a landscape artist and a painter,” Mr. Canemaker said. A reprieve came in the late 1930s, when Mr. Wong learned that Disney was adapting “Bambi, a Life in the Woods,” the 1923 novel by the Austrian writer Felix Salten about a fawn whose mother is killed by a hunter. In trying to animate the book, Disney had reached an impasse. The studio had enjoyed great success in 1937 with its animated film “Snow White and the Seven Dwarfs,” a baroque production in which every detail of the backgrounds  —   every petal on every flower, every leaf on every tree  —   was meticulously represented. In an attempt to use a similar style for “Bambi,” it found that the ornate backgrounds camouflaged the deer and other forest creatures on which the narrative centered. Mr. Wong spied his chance. “I said, ‘Gee, this is all outdoor scenery,’” he recalled in a video interview years afterward, adding: “I said, ‘Gee, I’m a landscape painter! ’” Invoking the exquisite landscape paintings of the Song dynasty (A. D. 960 —  1279) he rendered in watercolors and pastels a series of nature scenes that were moody, lyrical and atmospheric  —   at once lush and spare  —   with backgrounds subtly suggested by a stroke or two of the brush. “Walt Disney went crazy over them,” said Mr. Canemaker, who wrote about Mr. Wong in his book “Before the Animation Begins: The Art and Lives of Disney Inspirational Sketch Artists” (1996). “He said, ‘I love this indefinite quality, the mysterious quality of the forest. ’” Mr. Wong was unofficially promoted to the rank of inspirational sketch artist. “But he was more than that,” Mr. Canemaker explained. “He was the designer he was the person they went to when they had questions about the color, about how to lay something out. He even influenced the music and the special effects: Just by the look of the drawings, he inspired people. ” Mr. Wong spent two years painting the illustrations that would inform every aspect of “Bambi. ” Throughout the finished film  —   lent a brooding quality by its stark landscapes misty, desaturated palette and figures often seen in silhouette  —   his influence is unmistakable. But in 1941, in the wake of a bitter employees’ strike that year, Disney fired Mr. Wong. Though he had chosen not to strike  —   he felt the studio had been good to him, Mr. Canemaker said  —   he was let go amid the lingering climate of   resentments. On “Bambi,” Mr. Wong’s name appears, quite far down in the credits, as a mere “background” artist. Mr. Wong joined Warner Brothers in 1942, working there  —   and lent out on occasion to other studios  —   until his retirement in 1968. The indignities he endured were not confined to the studios. Trying to buy a house, he and his wife, the former Ruth Kim, were told that each property they inquired about had just been sold. “Then in a month you’d go back there and the sign was still there,” Mr. Wong recalled in “Tyrus. ” After the Japanese attack on Pearl Harbor in December 1941, Mr. Wong, like many   took to wearing a lapel button proclaiming his heritage, lest an angry American beat him up on the street. The war permanently dispersed the fledgling Oriental Artists’ Group. Mr. Wong’s friend Mr. Okubo was sent, with tens of thousands of other   to an internment camp. “If World War II hadn’t happened when it did, I think these artists, even the   artists, would have more of a name than they do today,” Ms. See said. “And that’s because this little movement that had just barely started was split apart by the war. ” Mr. Wong, who became a United States citizen in 1946, also designed Christmas cards for Hallmark and painted elegant   designs on dinnerware, now sought after by collectors. A longtime resident of Sunland, Calif. he became, in retirement, a renowned kitemaker, designing, building and hand coloring astonishing, airworthy creations  —   butterflies, swallows, whole flocks of owls, centipedes more than 100 feet long  —   that streaked the Southern California sky like paint on blue canvas. During the last 15 years of Ruth Wong’s life, when she was ill with dementia, Mr. Wong forsook his work to care for her. After her death in 1995, he slowly began making art again. In 2001, in formal recognition of his influence on “Bambi,” Mr. Wong was named a Disney Legend. The honor  —   whose previous recipients include Fred MacMurray, Julie Andrews and Annette Funicello  —   is bestowed by the Walt Disney Company for outstanding contributions. In 2003, a retrospective of his work, curated in part by Ms. See, was the inaugural exhibition at the Chinese American Museum in Los Angeles. The Disney Family Museum’s retrospective, “Water to Paper, Paint to Sky,” traveled in 2015 to the Museum of Chinese in America, in Lower Manhattan. Mr. Wong’s death, at his home in Sunland, was confirmed by the filmmaker Ms. Tom. His survivors include three daughters, Kay Fong,   Wong and Kim Wong and two grandchildren. When his daughters were small, Mr. Wong encouraged them to make art, as his father had encouraged him. Yet he would not let them have coloring books. The reason was simple: He did not want his children constrained, he said, by lines laid down by others.',\n",
       " 'Death may be the great equalizer, but it isn’t necessarily evenhanded. Of all the fields of endeavor that suffered mortal losses in 2016  —   consider Muhammad Ali and Arnold Palmer in sports and the      Hollywood deaths of Carrie Fisher and Debbie Reynolds  —   the pop music world had, hands down, the bleakest year. Start with David Bowie, whose stage persona  —   androgynous glam rocker, dance pop star, electronic experimentalist  —   was as   as his music. The year was only days old when the news came that he had died of cancer at 69. He had hinted that his time was short in the lyrics of his final album, released just two days before his death, but he had otherwise gone to great lengths to hide his illness from the public, a wish for privacy that ensured that his death would appear to have come out of the blue. Then came another shock, about three months later, when Prince accidentally overdosed on a painkiller and collapsed in an elevator at his sprawling home studio near Minneapolis. Death came to him at 57, and by all indications no one, including Prince Rogers Nelson, had seen it coming. As energetic onstage as ever, holding to an otherwise healthy regimen, he had successfully defied age into his sixth decade, so why not death, too? Leonard Cohen, on the other hand, in his 83rd year, undoubtedly did see it coming, just over his shoulder, but he went on his  —   I hesitate to say merry  —   way, ever the wise,   troubadour playing to sellout crowds and shrugging at the inevitable, knowing that the dark would finally overtake him but saying essentially, “Until then, here’s another song. ” It was as if 2016 hadn’t delivered enough jolts to the system when it closed out the year with yet another   death. George Michael, the 1980s sensation whose aura had dimmed in later years, was 53 when he went to bed and never woke up on Christmas. Pop music figures fell all year, many of their voices still embedded in the nicked vinyl grooves of old records that a lot of people can’t bear to throw out. The roster included Paul Kantner of Jefferson Airplane Keith Emerson and Greg Lake of Emerson, Lake and Palmer Glenn Frey of the Eagles and Maurice White of Earth, Wind  Fire. Leon Russell, the piano pounder with a Delta blues wail and a mountain man’s mass of hair, died. So did Merle Haggard, rugged country poet of the common man and the   outlaw. He was joined by the bluegrass legend Ralph Stanley and the guitar virtuoso who was practically glued to Elvis’s swiveling hips in the early days: Scotty Moore. And then there was George Martin, whose   genius had such a creative influence on the sounds of John, Paul, George and Ringo (and, by extension, on the entire rock era) that he was hailed as the fifth Beatle. If the music stars could fill arenas, so could idols of another stripe: the mighty athletes who left the scene. No figure among them was as towering as Ali. Some called him the greatest sports figure of the 20th century, the boxer who combined power, grace and brains in a way the ring had never seen. But he was more than a great athlete. Matters of war, race and religion coursed through his life in a publicly turbulent way. Some people hated him when he refused to be drafted during the Vietnam War, a decision that cost him his heavyweight title. But more people admired him, even loved him, for his principled stands, his high spirits, his lightning mind, his winking   and, yes, his rhyming motormouth. Until illness closed in, little could contain him, certainly not mere ropes around a ring. Palmer, too, was transformational, golf’s first media star. The gentleman’s game was never quite the same after he began gathering an army on the rolling greenswards and leading a charge, his shirt coming untucked, a cigarette dangling from his lips, his club just that, a weapon, as he pressed the attack. An entire generation of   postwar guys took up the game because of Arnie, and not a few women did, too. He was athletically blessed, magnetically cool, telegenically handsome  —   but he was somehow one of them, too. The same was said of Gordie Howe, Mr. Hockey, a son of the Saskatchewan prairie who tore up the National Hockey League, hung up his skates at 52 and died at 88 and of Ralph Branca, a trolley car conductor’s son who was a living reminder that one crushing mistake  —   his, the fastball to Bobby Thomson that decided the 1951 National League pennant  —   can sometimes never be lived down. Pat Summitt, the coach who elevated women’s basketball, led her Tennessee teams to eight championships and won more games than any other college coach, could not defeat Alzheimer’s disease, dying at 64. And within months the National Basketball Association lost two giants from different eras. Clyde Lovelette, an Olympic, college and N. B. A. champion who transformed the game as one of its first truly big men, was 86 his hardwood heir Nate Thurmond, a defensive stalwart who battled Russell, Wilt and Kareem in the paint in a   Hall of Fame career, was 74. Even older, in the baseball ranks, was Monte Irvin. When he died at 96, there were few people still around who could remember watching him play, particularly in his prime, in the 1940s, when he was a star on the Negro circuit but barred from the   major leagues. He made the Hall of Fame anyway as a New York Giant and became Major League Baseball’s first black executive, but when he died, fans pondered again the question that has hung over many an athletic career shackled by discrimination: What if? A different question, in an entirely different sphere, arose after the stunning news that Justice Antonin Scalia had died on a hunting trip in Texas: What now? In the thick of one of the most consequential Supreme Court careers of modern times, he left a void in conservative jurisprudence and, more urgently, a vacancy on the bench that has yet to be filled, raising still more questions about what may await the country. Other exits from the public stage returned us to the past. Nancy Reagan’s death evoked the 1980s White House, where   glamour and   West Coast conservatism took up residence on the banks of the Potomac. John Glenn’s had us thinking again about a   burst of national pride soaring into outer space. The deaths of Tom Hayden and Daniel Berrigan, avatars of defiance, harked back to the student rebellions of the 1960s and the Vietnam War’s roiling home front. Phyllis Schlafly’s obituaries were windows on the roots of the right wing’s ascension in American politics. The death of Janet Reno, the first woman to serve as attorney general, recalled the Clinton years, all eight of them, from the firestorm at Waco, Tex. to the international tug of war over a Cuban boy named Elián González, to the bitter Senate battle over impeachment. On other shores, Fidel Castro’s death at 90 summoned memories of Cuban revolution, nuclear brinkmanship and enduring enmity between a   strongman and the superpower only 90 miles away. The name of Boutros   the Egyptian diplomat who led the United Nations, led to replayed nightmares of genocide in Rwanda and Bosnia. The death of Shimon Peres removed a last link to the very founding of Israel and conjured decades of growing military power and fitful strivings for peace. And that of Elie Wiesel, in New York, after his tireless struggle to compel the world never to forget, made us confront once again the gas chambers of Auschwitz. If writers, too, are   even in fiction, then the world is poorer without the literary voices of Harper Lee, Umberto Eco, Pat Conroy, Jim Harrison, Anita Brookner, Alvin Toffler, Gloria Naylor and William Trevor, not to mention the playwrights Peter Shaffer, Dario Fo and,   Edward Albee  —   all dead in 2016. But just as treasured were those who spun   for our viewing pleasure  —   none more lustily than Ms. Fisher, the     Princess Leia of the “Star Wars” tales. Just a day later, capping a year of startling deaths, Ms. Reynolds, a singing and acting leading lady of an earlier era, died at 84 in the throes of a mother’s grief. Devotees of the “Harry Potter” movies were saddened by the death of Alan Rickman, who played the deliciously dour professor Severus Snape in that blockbuster franchise but whose career, on both stage and screen, was far richer than many of Snape’s younger fans may have known. Zsa Zsa Gabor’s celebrity, by contrast, outshone a modest acting career. Gene Wilder and Garry Shandling died in the same year, both having perfected a brand of hilariously neurotic comedy fit for a   culture. And this time Abe Vigoda, of the “Godfather” movies and “Barney Miller,” actually did die, after having not actually done so years ago when wildly uninformed people spread the word that he had. On the other side of the camera were directors whose vision came to us from all parts: Jacques Rivette, the French New Wave auteur, with his   meditations on life and art Abbas Kiarostami, the Iranian master, with his searching examinations of ordinary lives Andrzej Wajda, a rival to Ingmar Bergman and Akira Kurosawa in some critics’ eyes, with his haunting tales of Poland under the boot first of Nazis and then of Communists. A long roster of television stars of a generation or two ago passed on, images of their younger selves frozen in time: Noel Neill (“Adventures of Superman”) Alan Young (“Mister Ed”) Robert Vaughn (“The Man From U. N. C. L. E. ”) William Schallert and Patty Duke (father and daughter on “The Patty Duke Show”) Dan Haggerty (“The Life and Times of Grizzly Adams”) Florence Henderson (“The Brady Bunch”) and Alan Thicke (“Growing Pains”). And Garry Marshall, the creative force who practically owned prime time with “Happy Days,” “Mork  Mindy,” “Laverne  Shirley” and more, died at 81. On Broadway, lights were dimmed in memory of Brian Bedford, Tammy Grimes and Anne Jackson, all brilliant in their day. The architect Zaha Hadid left behind monuments to her fertile imagination and shaken acolytes around the world. The street photographer Bill Cunningham, who found fashion statements on every corner, was suddenly missing, making Manhattan, overnight, a less idiosyncratic, less interesting place. That smiling skinny man pedaling his bicycle among the honking cabs in a blue French worker’s jacket with a camera slung around his neck  —   what a picture!  —   had split from the scene. So had seemingly a generation of fellow photographers who had made art in recording the last half of the 20th century: Ruth Gruber, Marc Riboud, Louis Stettner and more. And so had the TV journalists Morley Safer and Gwen Ifill and the TV commentator John McLaughlin, all of whom had tried to make sense of it. Music’s other precincts were emptier without the conductor and revolutionary composer Pierre Boulez and the new music soprano Phyllis Curtin the jazz artists Mose Allison, Bobby Hutcherson and Gato Barbieri the rapper Phife Dawg (Malik Taylor) and the Latin megastar Juan Gabriel. Silicon Valley saw a giant depart in Andrew S. Grove, who led the semiconductor revolution at Intel. The television industry lost a   executive, Grant Tinker, who in the ’80s made NBC the network to watch in prime time. Astrophysics, and the smaller world of women in science, said farewell to a pioneer and a champion in Vera Rubin. And for tens of thousands of people who might have choked to death had they not been saved by his simple but ingenious maneuver, the passing of Henry J. Heimlich prompted not just sympathy but, even more, gratitude. Come to think of it, eliciting a large, if silent, thank you from those who live on is not a bad way for anyone to go. Which brings us to Marion Pritchard. Few who died in 2016 could have inspired measures of gratitude more profound. She was a brave young Dutch student and a   gentile who risked her life to save Jews from death camps in the early 1940s, in one instance shooting a Nazi stooge before he could seize three little children she had been hiding. By her estimate she saved 150 people. How many were still alive when she died a few weeks ago at 96 is anyone’s guess. But we know for certain that some were, and we can reasonably surmise that a good many more were, too, all of them still in possession of her selfless gift and her matchless legacy, their very lives.']"
      ]
     },
     "execution_count": 9,
     "metadata": {
      "tags": []
     },
     "output_type": "execute_result"
    }
   ],
   "source": [
    "y[0:4]"
   ]
  },
  {
   "cell_type": "code",
   "execution_count": 0,
   "metadata": {
    "colab": {},
    "colab_type": "code",
    "id": "HZrH5auepAJW"
   },
   "outputs": [],
   "source": [
    "## create a new input list containing articles over 5000 in length to avoid getting some non-english and special characters\n",
    "\n",
    "newinput=[]\n",
    "for i in y:\n",
    "    if len(i)<1000:\n",
    "        newinput.append(i)"
   ]
  },
  {
   "cell_type": "code",
   "execution_count": 0,
   "metadata": {
    "colab": {
     "base_uri": "https://localhost:8080/",
     "height": 35
    },
    "colab_type": "code",
    "id": "wQ2fnLo6pHsS",
    "outputId": "748377cb-b2fd-4f32-d216-7684af46f910"
   },
   "outputs": [
    {
     "data": {
      "text/plain": [
       "10826"
      ]
     },
     "execution_count": 15,
     "metadata": {
      "tags": []
     },
     "output_type": "execute_result"
    }
   ],
   "source": [
    "len(newinput)"
   ]
  },
  {
   "cell_type": "code",
   "execution_count": 0,
   "metadata": {
    "colab": {},
    "colab_type": "code",
    "id": "tOgoA6VnpI81"
   },
   "outputs": [],
   "source": [
    "concatstr = ' '.join(newinput) ## take the contents of the list and put it into one giant string"
   ]
  },
  {
   "cell_type": "code",
   "execution_count": 0,
   "metadata": {
    "colab": {
     "base_uri": "https://localhost:8080/",
     "height": 35
    },
    "colab_type": "code",
    "id": "iZVGw8OepNVh",
    "outputId": "944964ea-1d8a-457d-98a8-d4e52ffedc76"
   },
   "outputs": [
    {
     "data": {
      "text/plain": [
       "6931479"
      ]
     },
     "execution_count": 17,
     "metadata": {
      "tags": []
     },
     "output_type": "execute_result"
    }
   ],
   "source": [
    "len(concatstr)"
   ]
  },
  {
   "cell_type": "markdown",
   "metadata": {
    "colab_type": "text",
    "id": "-UXTtxmgp-EQ"
   },
   "source": [
    "Can Change This Number of Characters:"
   ]
  },
  {
   "cell_type": "code",
   "execution_count": 0,
   "metadata": {
    "colab": {},
    "colab_type": "code",
    "id": "7SXK2-AgpPEZ"
   },
   "outputs": [],
   "source": [
    "newinput = concatstr[0:2000000] # work with the first 30 million characters\n",
    "text = newinput"
   ]
  },
  {
   "cell_type": "code",
   "execution_count": 0,
   "metadata": {
    "colab": {
     "base_uri": "https://localhost:8080/",
     "height": 35
    },
    "colab_type": "code",
    "id": "WCph4UFkqEsW",
    "outputId": "3e882254-3106-4209-82a7-d3bc74decf56"
   },
   "outputs": [
    {
     "name": "stdout",
     "output_type": "stream",
     "text": [
      "152 unique characters\n"
     ]
    }
   ],
   "source": [
    "vocab = sorted(set(text))\n",
    "print ('{} unique characters'.format(len(vocab)))"
   ]
  },
  {
   "cell_type": "code",
   "execution_count": 0,
   "metadata": {
    "colab": {},
    "colab_type": "code",
    "id": "9AEU-K7fqs5k"
   },
   "outputs": [],
   "source": [
    "# Creating a mapping from unique characters to indices\n",
    "char2idx = {u:i for i, u in enumerate(vocab)}\n",
    "idx2char = np.array(vocab)\n",
    "\n",
    "text_as_int = np.array([char2idx[c] for c in text])"
   ]
  },
  {
   "cell_type": "code",
   "execution_count": 0,
   "metadata": {
    "colab": {
     "base_uri": "https://localhost:8080/",
     "height": 1000
    },
    "colab_type": "code",
    "id": "XXbjaRsdq_01",
    "outputId": "da5a2e9b-d1f9-4760-c570-6cbd6d434b28"
   },
   "outputs": [
    {
     "name": "stdout",
     "output_type": "stream",
     "text": [
      "{\n",
      "  ' ' :   0,\n",
      "  '!' :   1,\n",
      "  '#' :   2,\n",
      "  '$' :   3,\n",
      "  '%' :   4,\n",
      "  '&' :   5,\n",
      "  '(' :   6,\n",
      "  ')' :   7,\n",
      "  '*' :   8,\n",
      "  '+' :   9,\n",
      "  ',' :  10,\n",
      "  '.' :  11,\n",
      "  '0' :  12,\n",
      "  '1' :  13,\n",
      "  '2' :  14,\n",
      "  '3' :  15,\n",
      "  '4' :  16,\n",
      "  '5' :  17,\n",
      "  '6' :  18,\n",
      "  '7' :  19,\n",
      "  '8' :  20,\n",
      "  '9' :  21,\n",
      "  ':' :  22,\n",
      "  '?' :  23,\n",
      "  '@' :  24,\n",
      "  'A' :  25,\n",
      "  'B' :  26,\n",
      "  'C' :  27,\n",
      "  'D' :  28,\n",
      "  'E' :  29,\n",
      "  'F' :  30,\n",
      "  'G' :  31,\n",
      "  'H' :  32,\n",
      "  'I' :  33,\n",
      "  'J' :  34,\n",
      "  'K' :  35,\n",
      "  'L' :  36,\n",
      "  'M' :  37,\n",
      "  'N' :  38,\n",
      "  'O' :  39,\n",
      "  'P' :  40,\n",
      "  'Q' :  41,\n",
      "  'R' :  42,\n",
      "  'S' :  43,\n",
      "  'T' :  44,\n",
      "  'U' :  45,\n",
      "  'V' :  46,\n",
      "  'W' :  47,\n",
      "  'X' :  48,\n",
      "  'Y' :  49,\n",
      "  'Z' :  50,\n",
      "  '[' :  51,\n",
      "  ']' :  52,\n",
      "  '_' :  53,\n",
      "  '`' :  54,\n",
      "  'a' :  55,\n",
      "  'b' :  56,\n",
      "  'c' :  57,\n",
      "  'd' :  58,\n",
      "  'e' :  59,\n",
      "  'f' :  60,\n",
      "  'g' :  61,\n",
      "  'h' :  62,\n",
      "  'i' :  63,\n",
      "  'j' :  64,\n",
      "  'k' :  65,\n",
      "  'l' :  66,\n",
      "  'm' :  67,\n",
      "  'n' :  68,\n",
      "  'o' :  69,\n",
      "  'p' :  70,\n",
      "  'q' :  71,\n",
      "  'r' :  72,\n",
      "  's' :  73,\n",
      "  't' :  74,\n",
      "  'u' :  75,\n",
      "  'v' :  76,\n",
      "  'w' :  77,\n",
      "  'x' :  78,\n",
      "  'y' :  79,\n",
      "  'z' :  80,\n",
      "  '|' :  81,\n",
      "  '}' :  82,\n",
      "  '£' :  83,\n",
      "  '®' :  84,\n",
      "  '°' :  85,\n",
      "  '¼' :  86,\n",
      "  '½' :  87,\n",
      "  'á' :  88,\n",
      "  'è' :  89,\n",
      "  'é' :  90,\n",
      "  'í' :  91,\n",
      "  'ï' :  92,\n",
      "  'ñ' :  93,\n",
      "  'ó' :  94,\n",
      "  'ô' :  95,\n",
      "  'ö' :  96,\n",
      "  'ü' :  97,\n",
      "  'ă' :  98,\n",
      "  'ɴ' :  99,\n",
      "  'ʀ' : 100,\n",
      "  'ʏ' : 101,\n",
      "  'آ' : 102,\n",
      "  'أ' : 103,\n",
      "  'إ' : 104,\n",
      "  'ئ' : 105,\n",
      "  'ا' : 106,\n",
      "  'ب' : 107,\n",
      "  'ة' : 108,\n",
      "  'ت' : 109,\n",
      "  'ح' : 110,\n",
      "  'خ' : 111,\n",
      "  'د' : 112,\n",
      "  'ر' : 113,\n",
      "  'س' : 114,\n",
      "  'ش' : 115,\n",
      "  'ص' : 116,\n",
      "  'ط' : 117,\n",
      "  'ظ' : 118,\n",
      "  'ع' : 119,\n",
      "  ...\n",
      "}\n"
     ]
    }
   ],
   "source": [
    "print('{')\n",
    "for char,_ in zip(char2idx, range(120)):\n",
    "    print('  {:4s}: {:3d},'.format(repr(char), char2idx[char]))\n",
    "print('  ...\\n}')"
   ]
  },
  {
   "cell_type": "code",
   "execution_count": 0,
   "metadata": {
    "colab": {
     "base_uri": "https://localhost:8080/",
     "height": 35
    },
    "colab_type": "code",
    "id": "A42gwv98rBjd",
    "outputId": "d0742a81-2e40-4922-eec0-df5eb6e103fd"
   },
   "outputs": [
    {
     "name": "stdout",
     "output_type": "stream",
     "text": [
      "'LONDON  —   Que' ---- characters mapped to int ---- > [ 36  39  38  28  39  38   0   0 134   0   0   0  41  75  59]\n"
     ]
    }
   ],
   "source": [
    "# Show how the first 13 characters from the text are mapped to integers\n",
    "print ('{} ---- characters mapped to int ---- > {}'.format(repr(text[:15]), text_as_int[:15]))"
   ]
  },
  {
   "cell_type": "markdown",
   "metadata": {
    "colab_type": "text",
    "id": "1pCbomV_ramS"
   },
   "source": [
    "## Model Building"
   ]
  },
  {
   "cell_type": "code",
   "execution_count": 0,
   "metadata": {
    "colab": {},
    "colab_type": "code",
    "id": "hl2umsHQrDjW"
   },
   "outputs": [],
   "source": [
    "# The maximum length sentence we want for a single input in characters\n",
    "seq_length = 100\n",
    "examples_per_epoch = len(text)//(seq_length+1)\n",
    "\n",
    "# Create training examples / targets\n",
    "char_dataset = tf.data.Dataset.from_tensor_slices(text_as_int)"
   ]
  },
  {
   "cell_type": "code",
   "execution_count": 0,
   "metadata": {
    "colab": {
     "base_uri": "https://localhost:8080/",
     "height": 108
    },
    "colab_type": "code",
    "id": "oBW5Z1HIrH4O",
    "outputId": "c0d0d273-1db8-48ea-8a28-4d5b171d6a3e"
   },
   "outputs": [
    {
     "name": "stdout",
     "output_type": "stream",
     "text": [
      "'LONDON  —   Queen Elizabeth II, who has been battling a cold for more than a week, missed a New Year’'\n",
      "'s Day church service at her country estate in Sandringham, Buckingham Palace said on Sunday. A week e'\n",
      "'arlier, the queen, who is 90, missed a Christmas Day church service, for the first time since 1988, b'\n",
      "'ecause of the illness. “The Queen does not yet feel ready to attend church as she is still recuperati'\n",
      "'ng from a heavy cold,” the palace said in a statement. The queen’s husband, Prince Philip, who had al'\n"
     ]
    }
   ],
   "source": [
    "sequences = char_dataset.batch(seq_length+1, drop_remainder=True)\n",
    "\n",
    "for item in sequences.take(5):\n",
    "  print(repr(''.join(idx2char[item.numpy()])))"
   ]
  },
  {
   "cell_type": "code",
   "execution_count": 0,
   "metadata": {
    "colab": {},
    "colab_type": "code",
    "id": "xWuLJafDrLE2"
   },
   "outputs": [],
   "source": [
    "def split_input_target(chunk):\n",
    "    input_text = chunk[:-1]\n",
    "    target_text = chunk[1:]\n",
    "    return input_text, target_text\n",
    "\n",
    "dataset = sequences.map(split_input_target)"
   ]
  },
  {
   "cell_type": "code",
   "execution_count": 0,
   "metadata": {
    "colab": {
     "base_uri": "https://localhost:8080/",
     "height": 35
    },
    "colab_type": "code",
    "id": "fZU1e25irP0P",
    "outputId": "69233abc-b2c1-4523-87e3-437af27edd79"
   },
   "outputs": [
    {
     "data": {
      "text/plain": [
       "<BatchDataset shapes: ((128, 100), (128, 100)), types: (tf.int64, tf.int64)>"
      ]
     },
     "execution_count": 28,
     "metadata": {
      "tags": []
     },
     "output_type": "execute_result"
    }
   ],
   "source": [
    "# Batch size\n",
    "BATCH_SIZE = 128\n",
    "\n",
    "# Buffer size to shuffle the dataset\n",
    "# (TF data is designed to work with possibly infinite sequences,\n",
    "# so it doesn't attempt to shuffle the entire sequence in memory. Instead,\n",
    "# it maintains a buffer in which it shuffles elements).\n",
    "BUFFER_SIZE = 10000\n",
    "\n",
    "dataset = dataset.shuffle(BUFFER_SIZE).batch(BATCH_SIZE, drop_remainder=True)\n",
    "\n",
    "dataset"
   ]
  },
  {
   "cell_type": "code",
   "execution_count": 0,
   "metadata": {
    "colab": {},
    "colab_type": "code",
    "id": "ZuQlOrC8rRA_"
   },
   "outputs": [],
   "source": [
    "# Length of the vocabulary in chars\n",
    "vocab_size = len(vocab)\n",
    "\n",
    "# The embedding dimension\n",
    "embedding_dim = 256\n",
    "\n",
    "# Number of RNN units\n",
    "rnn_units = 1024"
   ]
  },
  {
   "cell_type": "code",
   "execution_count": 0,
   "metadata": {
    "colab": {},
    "colab_type": "code",
    "id": "sZELp5_nrSbv"
   },
   "outputs": [],
   "source": [
    "def build_model(vocab_size, embedding_dim, rnn_units, batch_size):\n",
    "  model = tf.keras.Sequential([\n",
    "    tf.keras.layers.Embedding(vocab_size, embedding_dim,\n",
    "                              batch_input_shape=[batch_size, None]),\n",
    "    tf.keras.layers.GRU(rnn_units,\n",
    "                        return_sequences=True,\n",
    "                        stateful=True,\n",
    "                        recurrent_initializer='glorot_uniform'),\n",
    "    tf.keras.layers.GRU(rnn_units,\n",
    "                        return_sequences=True,\n",
    "                        stateful=True,\n",
    "                        recurrent_initializer='glorot_uniform'),\n",
    "    tf.keras.layers.GRU(rnn_units,\n",
    "                        return_sequences=True,\n",
    "                        stateful=True,\n",
    "                        recurrent_initializer='glorot_uniform'),\n",
    "    tf.keras.layers.Dense(vocab_size)\n",
    "  ])\n",
    "  return model"
   ]
  },
  {
   "cell_type": "code",
   "execution_count": 0,
   "metadata": {
    "colab": {},
    "colab_type": "code",
    "id": "zWq3vuPxrT2H"
   },
   "outputs": [],
   "source": [
    "model = build_model(\n",
    "  vocab_size = len(vocab),\n",
    "  embedding_dim=embedding_dim,\n",
    "  rnn_units=rnn_units,\n",
    "  batch_size=BATCH_SIZE)\n",
    "#model = build_model(vocab_size, embedding_dim, rnn_units, batch_size=1)\n",
    "\n",
    "# model.load_weights(tf.train.latest_checkpoint(checkpoint_dir)) # './training_checkpoints/ckpt_30'\n",
    "#model.load_weights('./training_checkpoints/ckpt_100')"
   ]
  },
  {
   "cell_type": "code",
   "execution_count": 0,
   "metadata": {
    "colab": {
     "base_uri": "https://localhost:8080/",
     "height": 35
    },
    "colab_type": "code",
    "id": "Xbvmtv0khA5K",
    "outputId": "161d1cbe-25d0-4fa0-bd78-a35b55b65ccc"
   },
   "outputs": [
    {
     "name": "stdout",
     "output_type": "stream",
     "text": [
      "(128, 100, 152) # (batch_size, sequence_length, vocab_size)\n"
     ]
    }
   ],
   "source": [
    "for input_example_batch, target_example_batch in dataset.take(1):\n",
    "  example_batch_predictions = model(input_example_batch)\n",
    "  print(example_batch_predictions.shape, \"# (batch_size, sequence_length, vocab_size)\")"
   ]
  },
  {
   "cell_type": "code",
   "execution_count": 0,
   "metadata": {
    "colab": {
     "base_uri": "https://localhost:8080/",
     "height": 346
    },
    "colab_type": "code",
    "id": "IGz-V-YCrU_4",
    "outputId": "3f6f9e0b-7741-4684-ae4a-3fb260a73c45"
   },
   "outputs": [
    {
     "name": "stdout",
     "output_type": "stream",
     "text": [
      "Model: \"sequential_12\"\n",
      "_________________________________________________________________\n",
      "Layer (type)                 Output Shape              Param #   \n",
      "=================================================================\n",
      "embedding_12 (Embedding)     (128, None, 256)          38912     \n",
      "_________________________________________________________________\n",
      "gru_14 (GRU)                 (128, None, 1024)         3938304   \n",
      "_________________________________________________________________\n",
      "gru_15 (GRU)                 (128, None, 1024)         6297600   \n",
      "_________________________________________________________________\n",
      "gru_16 (GRU)                 (128, None, 1024)         6297600   \n",
      "_________________________________________________________________\n",
      "dense_12 (Dense)             (128, None, 152)          155800    \n",
      "=================================================================\n",
      "Total params: 16,728,216\n",
      "Trainable params: 16,728,216\n",
      "Non-trainable params: 0\n",
      "_________________________________________________________________\n"
     ]
    }
   ],
   "source": [
    "model.summary()"
   ]
  },
  {
   "cell_type": "code",
   "execution_count": 0,
   "metadata": {
    "colab": {
     "base_uri": "https://localhost:8080/",
     "height": 163
    },
    "colab_type": "code",
    "id": "iCeJf7HxgpyU",
    "outputId": "c0017ea0-564f-40e7-d5df-fc8667d2e19d"
   },
   "outputs": [
    {
     "data": {
      "text/plain": [
       "array([138, 150,  15,  35,  52,  70, 132,  72, 127,  48, 122,  76,  38,\n",
       "        90, 148,  85,  33, 144,  90,  42,  39,  83,  52,  89,  48, 133,\n",
       "        17, 139, 121,  45,  88, 115,   5,   5,  40,  52,  81,  24,  44,\n",
       "       120,  68,  45,   4, 129,   5, 127, 151,  45,  85,  56,  98, 117,\n",
       "       113,  37,  86,  90,  16,  53,  80,  33,  37,  77, 102,  43, 139,\n",
       "        29,  12,  35,  37,  61,  22,  39,  74, 112,  15, 150,  49,   0,\n",
       "        29,  66,  75,  56,  98,  51,  21,  21,  86,  68,  12,  16,  72,\n",
       "       124,  85,  45,  41, 147, 142,  84,  81,  59])"
      ]
     },
     "execution_count": 91,
     "metadata": {
      "tags": []
     },
     "output_type": "execute_result"
    }
   ],
   "source": [
    "sampled_indices = tf.random.categorical(example_batch_predictions[0], num_samples=1)\n",
    "sampled_indices = tf.squeeze(sampled_indices,axis=-1).numpy()\n",
    "sampled_indices"
   ]
  },
  {
   "cell_type": "code",
   "execution_count": 0,
   "metadata": {
    "colab": {
     "base_uri": "https://localhost:8080/",
     "height": 108
    },
    "colab_type": "code",
    "id": "XCgzm9chjQnA",
    "outputId": "04755fbc-7fa7-4109-acc7-6e8c6e324f9e"
   },
   "outputs": [
    {
     "name": "stdout",
     "output_type": "stream",
     "text": [
      "Input: \n",
      " 'er baseball player than he was a football player. I think Urban Meyer kept Tim Tebow from playing ba'\n",
      "\n",
      "Next Char Predictions: \n",
      " '”😄3K]p\\u2009rᴀXلvNé👉°I🇦éRO£]èX\\u200e5•قUáش&&P]|@TفnU%ᴇ&ᴀ🙋U°băطرM¼é4_zIMwآS•E0KMg:Otد3😄Y Elubă[99¼n04rن°UQ🇺″®|e'\n"
     ]
    }
   ],
   "source": [
    "print(\"Input: \\n\", repr(\"\".join(idx2char[input_example_batch[0]])))\n",
    "print()\n",
    "print(\"Next Char Predictions: \\n\", repr(\"\".join(idx2char[sampled_indices ])))"
   ]
  },
  {
   "cell_type": "code",
   "execution_count": 0,
   "metadata": {
    "colab": {},
    "colab_type": "code",
    "id": "gK2WSBHgrXhQ"
   },
   "outputs": [],
   "source": [
    "def loss(labels, logits):\n",
    "  return tf.keras.losses.sparse_categorical_crossentropy(labels, logits, from_logits=True)"
   ]
  },
  {
   "cell_type": "code",
   "execution_count": 0,
   "metadata": {
    "colab": {},
    "colab_type": "code",
    "id": "AwHFasoYrqG0"
   },
   "outputs": [],
   "source": [
    "model.compile(optimizer='adam', loss=loss)"
   ]
  },
  {
   "cell_type": "code",
   "execution_count": 0,
   "metadata": {
    "colab": {},
    "colab_type": "code",
    "id": "Og93rWb2rr8K"
   },
   "outputs": [],
   "source": [
    "# Directory where the checkpoints will be saved\n",
    "checkpoint_dir = './training_checkpoints'\n",
    "# Name of the checkpoint files\n",
    "checkpoint_prefix = os.path.join(checkpoint_dir, \"ckpt_{epoch}\")\n",
    "\n",
    "checkpoint_callback=tf.keras.callbacks.ModelCheckpoint(\n",
    "    filepath=checkpoint_prefix,\n",
    "    save_weights_only=True)"
   ]
  },
  {
   "cell_type": "markdown",
   "metadata": {
    "colab_type": "text",
    "id": "DUzFWGSBvtqG"
   },
   "source": [
    "## Train Model"
   ]
  },
  {
   "cell_type": "code",
   "execution_count": 0,
   "metadata": {
    "colab": {},
    "colab_type": "code",
    "id": "EpOsIvrhrygD"
   },
   "outputs": [],
   "source": [
    "EPOCHS=100"
   ]
  },
  {
   "cell_type": "code",
   "execution_count": 0,
   "metadata": {
    "colab": {
     "base_uri": "https://localhost:8080/",
     "height": 1000
    },
    "colab_type": "code",
    "id": "sGx8anvXr0ec",
    "outputId": "a7a90ea8-d7d8-4489-f14b-0587ab9f80f5"
   },
   "outputs": [
    {
     "name": "stdout",
     "output_type": "stream",
     "text": [
      "Train for 154 steps\n",
      "Epoch 1/100\n",
      "154/154 [==============================] - 128s 834ms/step - loss: 2.8233\n",
      "Epoch 2/100\n",
      "154/154 [==============================] - 126s 817ms/step - loss: 1.7050\n",
      "Epoch 3/100\n",
      "154/154 [==============================] - 126s 817ms/step - loss: 1.3759\n",
      "Epoch 4/100\n",
      "154/154 [==============================] - 126s 817ms/step - loss: 1.2584\n",
      "Epoch 5/100\n",
      "154/154 [==============================] - 126s 817ms/step - loss: 1.1883\n",
      "Epoch 6/100\n",
      "154/154 [==============================] - 126s 817ms/step - loss: 1.1360\n",
      "Epoch 7/100\n",
      "154/154 [==============================] - 125s 814ms/step - loss: 1.0926\n",
      "Epoch 8/100\n",
      "154/154 [==============================] - 126s 817ms/step - loss: 1.0542\n",
      "Epoch 9/100\n",
      "154/154 [==============================] - 126s 816ms/step - loss: 1.0175\n",
      "Epoch 10/100\n",
      "154/154 [==============================] - 126s 818ms/step - loss: 0.9834\n",
      "Epoch 11/100\n",
      "154/154 [==============================] - 125s 815ms/step - loss: 0.9492\n",
      "Epoch 12/100\n",
      "154/154 [==============================] - 125s 815ms/step - loss: 0.9157\n",
      "Epoch 13/100\n",
      "154/154 [==============================] - 125s 814ms/step - loss: 0.8846\n",
      "Epoch 14/100\n",
      "154/154 [==============================] - 125s 815ms/step - loss: 0.8521\n",
      "Epoch 15/100\n",
      "154/154 [==============================] - 126s 816ms/step - loss: 0.8214\n",
      "Epoch 16/100\n",
      "154/154 [==============================] - 126s 817ms/step - loss: 0.7894\n",
      "Epoch 17/100\n",
      "154/154 [==============================] - 126s 816ms/step - loss: 0.7593\n",
      "Epoch 18/100\n",
      "154/154 [==============================] - 125s 814ms/step - loss: 0.7307\n",
      "Epoch 19/100\n",
      "154/154 [==============================] - 125s 812ms/step - loss: 0.7037\n",
      "Epoch 20/100\n",
      "154/154 [==============================] - 125s 813ms/step - loss: 0.6767\n",
      "Epoch 21/100\n",
      "154/154 [==============================] - 125s 814ms/step - loss: 0.6511\n",
      "Epoch 22/100\n",
      "154/154 [==============================] - 125s 814ms/step - loss: 0.6278\n",
      "Epoch 23/100\n",
      "154/154 [==============================] - 125s 815ms/step - loss: 0.6065\n",
      "Epoch 24/100\n",
      "154/154 [==============================] - 125s 814ms/step - loss: 0.5868\n",
      "Epoch 25/100\n",
      "154/154 [==============================] - 125s 815ms/step - loss: 0.5685\n",
      "Epoch 26/100\n",
      "154/154 [==============================] - 125s 813ms/step - loss: 0.5502\n",
      "Epoch 27/100\n",
      "154/154 [==============================] - 125s 811ms/step - loss: 0.5338\n",
      "Epoch 28/100\n",
      "154/154 [==============================] - 125s 812ms/step - loss: 0.5205\n",
      "Epoch 29/100\n",
      "154/154 [==============================] - 125s 813ms/step - loss: 0.5084\n",
      "Epoch 30/100\n",
      "154/154 [==============================] - 125s 812ms/step - loss: 0.4964\n",
      "Epoch 31/100\n",
      "154/154 [==============================] - 125s 811ms/step - loss: 0.4868\n",
      "Epoch 32/100\n",
      "154/154 [==============================] - 125s 813ms/step - loss: 0.4767\n",
      "Epoch 33/100\n",
      "154/154 [==============================] - 125s 812ms/step - loss: 0.4697\n",
      "Epoch 34/100\n",
      "154/154 [==============================] - 125s 815ms/step - loss: 0.4615\n",
      "Epoch 35/100\n",
      "154/154 [==============================] - 126s 815ms/step - loss: 0.4555\n",
      "Epoch 36/100\n",
      "154/154 [==============================] - 125s 812ms/step - loss: 0.4489\n",
      "Epoch 37/100\n",
      "154/154 [==============================] - 125s 813ms/step - loss: 0.4437\n",
      "Epoch 38/100\n",
      "154/154 [==============================] - 125s 812ms/step - loss: 0.4380\n",
      "Epoch 39/100\n",
      "154/154 [==============================] - 125s 813ms/step - loss: 0.4335\n",
      "Epoch 40/100\n",
      "154/154 [==============================] - 125s 814ms/step - loss: 0.4304\n",
      "Epoch 41/100\n",
      "154/154 [==============================] - 125s 812ms/step - loss: 0.4269\n",
      "Epoch 42/100\n",
      "154/154 [==============================] - 125s 811ms/step - loss: 0.4253\n",
      "Epoch 43/100\n",
      "154/154 [==============================] - 125s 811ms/step - loss: 0.4219\n",
      "Epoch 44/100\n",
      "154/154 [==============================] - 125s 813ms/step - loss: 0.4177\n",
      "Epoch 45/100\n",
      "154/154 [==============================] - 125s 813ms/step - loss: 0.4161\n",
      "Epoch 46/100\n",
      "154/154 [==============================] - 125s 810ms/step - loss: 0.4133\n",
      "Epoch 47/100\n",
      "154/154 [==============================] - 125s 814ms/step - loss: 0.4118\n",
      "Epoch 48/100\n",
      "154/154 [==============================] - 125s 813ms/step - loss: 0.4100\n",
      "Epoch 49/100\n",
      "154/154 [==============================] - 125s 811ms/step - loss: 0.4095\n",
      "Epoch 50/100\n",
      "154/154 [==============================] - 125s 812ms/step - loss: 0.4081\n",
      "Epoch 51/100\n",
      "154/154 [==============================] - 125s 812ms/step - loss: 0.4078\n",
      "Epoch 52/100\n",
      "154/154 [==============================] - 125s 812ms/step - loss: 0.4065\n",
      "Epoch 53/100\n",
      "154/154 [==============================] - 125s 813ms/step - loss: 0.4056\n",
      "Epoch 54/100\n",
      "154/154 [==============================] - 125s 813ms/step - loss: 0.4060\n",
      "Epoch 55/100\n",
      "154/154 [==============================] - 125s 812ms/step - loss: 0.4054\n",
      "Epoch 56/100\n",
      "154/154 [==============================] - 125s 811ms/step - loss: 0.4053\n",
      "Epoch 57/100\n",
      "154/154 [==============================] - 125s 811ms/step - loss: 0.4063\n",
      "Epoch 58/100\n",
      "154/154 [==============================] - 125s 810ms/step - loss: 0.4060\n",
      "Epoch 59/100\n",
      "154/154 [==============================] - 125s 813ms/step - loss: 0.4051\n",
      "Epoch 60/100\n",
      "154/154 [==============================] - 125s 813ms/step - loss: 0.4049\n",
      "Epoch 61/100\n",
      "154/154 [==============================] - 125s 813ms/step - loss: 0.4040\n",
      "Epoch 62/100\n",
      "  3/154 [..............................] - ETA: 4:36 - loss: 0.3854"
     ]
    },
    {
     "ename": "KeyboardInterrupt",
     "evalue": "ignored",
     "output_type": "error",
     "traceback": [
      "\u001b[0;31m---------------------------------------------------------------------------\u001b[0m",
      "\u001b[0;31mKeyboardInterrupt\u001b[0m                         Traceback (most recent call last)",
      "\u001b[0;32m<ipython-input-97-25e345c13e8b>\u001b[0m in \u001b[0;36m<module>\u001b[0;34m()\u001b[0m\n\u001b[0;32m----> 1\u001b[0;31m \u001b[0mhistory\u001b[0m \u001b[0;34m=\u001b[0m \u001b[0mmodel\u001b[0m\u001b[0;34m.\u001b[0m\u001b[0mfit\u001b[0m\u001b[0;34m(\u001b[0m\u001b[0mdataset\u001b[0m\u001b[0;34m,\u001b[0m \u001b[0mepochs\u001b[0m\u001b[0;34m=\u001b[0m\u001b[0mEPOCHS\u001b[0m\u001b[0;34m,\u001b[0m \u001b[0mcallbacks\u001b[0m\u001b[0;34m=\u001b[0m\u001b[0;34m[\u001b[0m\u001b[0mcheckpoint_callback\u001b[0m\u001b[0;34m]\u001b[0m\u001b[0;34m)\u001b[0m\u001b[0;34m\u001b[0m\u001b[0;34m\u001b[0m\u001b[0m\n\u001b[0m",
      "\u001b[0;32m/usr/local/lib/python3.6/dist-packages/tensorflow_core/python/keras/engine/training.py\u001b[0m in \u001b[0;36mfit\u001b[0;34m(self, x, y, batch_size, epochs, verbose, callbacks, validation_split, validation_data, shuffle, class_weight, sample_weight, initial_epoch, steps_per_epoch, validation_steps, validation_freq, max_queue_size, workers, use_multiprocessing, **kwargs)\u001b[0m\n\u001b[1;32m    817\u001b[0m         \u001b[0mmax_queue_size\u001b[0m\u001b[0;34m=\u001b[0m\u001b[0mmax_queue_size\u001b[0m\u001b[0;34m,\u001b[0m\u001b[0;34m\u001b[0m\u001b[0;34m\u001b[0m\u001b[0m\n\u001b[1;32m    818\u001b[0m         \u001b[0mworkers\u001b[0m\u001b[0;34m=\u001b[0m\u001b[0mworkers\u001b[0m\u001b[0;34m,\u001b[0m\u001b[0;34m\u001b[0m\u001b[0;34m\u001b[0m\u001b[0m\n\u001b[0;32m--> 819\u001b[0;31m         use_multiprocessing=use_multiprocessing)\n\u001b[0m\u001b[1;32m    820\u001b[0m \u001b[0;34m\u001b[0m\u001b[0m\n\u001b[1;32m    821\u001b[0m   def evaluate(self,\n",
      "\u001b[0;32m/usr/local/lib/python3.6/dist-packages/tensorflow_core/python/keras/engine/training_v2.py\u001b[0m in \u001b[0;36mfit\u001b[0;34m(self, model, x, y, batch_size, epochs, verbose, callbacks, validation_split, validation_data, shuffle, class_weight, sample_weight, initial_epoch, steps_per_epoch, validation_steps, validation_freq, max_queue_size, workers, use_multiprocessing, **kwargs)\u001b[0m\n\u001b[1;32m    340\u001b[0m                 \u001b[0mmode\u001b[0m\u001b[0;34m=\u001b[0m\u001b[0mModeKeys\u001b[0m\u001b[0;34m.\u001b[0m\u001b[0mTRAIN\u001b[0m\u001b[0;34m,\u001b[0m\u001b[0;34m\u001b[0m\u001b[0;34m\u001b[0m\u001b[0m\n\u001b[1;32m    341\u001b[0m                 \u001b[0mtraining_context\u001b[0m\u001b[0;34m=\u001b[0m\u001b[0mtraining_context\u001b[0m\u001b[0;34m,\u001b[0m\u001b[0;34m\u001b[0m\u001b[0;34m\u001b[0m\u001b[0m\n\u001b[0;32m--> 342\u001b[0;31m                 total_epochs=epochs)\n\u001b[0m\u001b[1;32m    343\u001b[0m             \u001b[0mcbks\u001b[0m\u001b[0;34m.\u001b[0m\u001b[0mmake_logs\u001b[0m\u001b[0;34m(\u001b[0m\u001b[0mmodel\u001b[0m\u001b[0;34m,\u001b[0m \u001b[0mepoch_logs\u001b[0m\u001b[0;34m,\u001b[0m \u001b[0mtraining_result\u001b[0m\u001b[0;34m,\u001b[0m \u001b[0mModeKeys\u001b[0m\u001b[0;34m.\u001b[0m\u001b[0mTRAIN\u001b[0m\u001b[0;34m)\u001b[0m\u001b[0;34m\u001b[0m\u001b[0;34m\u001b[0m\u001b[0m\n\u001b[1;32m    344\u001b[0m \u001b[0;34m\u001b[0m\u001b[0m\n",
      "\u001b[0;32m/usr/local/lib/python3.6/dist-packages/tensorflow_core/python/keras/engine/training_v2.py\u001b[0m in \u001b[0;36mrun_one_epoch\u001b[0;34m(model, iterator, execution_function, dataset_size, batch_size, strategy, steps_per_epoch, num_samples, mode, training_context, total_epochs)\u001b[0m\n\u001b[1;32m    126\u001b[0m         step=step, mode=mode, size=current_batch_size) as batch_logs:\n\u001b[1;32m    127\u001b[0m       \u001b[0;32mtry\u001b[0m\u001b[0;34m:\u001b[0m\u001b[0;34m\u001b[0m\u001b[0;34m\u001b[0m\u001b[0m\n\u001b[0;32m--> 128\u001b[0;31m         \u001b[0mbatch_outs\u001b[0m \u001b[0;34m=\u001b[0m \u001b[0mexecution_function\u001b[0m\u001b[0;34m(\u001b[0m\u001b[0miterator\u001b[0m\u001b[0;34m)\u001b[0m\u001b[0;34m\u001b[0m\u001b[0;34m\u001b[0m\u001b[0m\n\u001b[0m\u001b[1;32m    129\u001b[0m       \u001b[0;32mexcept\u001b[0m \u001b[0;34m(\u001b[0m\u001b[0mStopIteration\u001b[0m\u001b[0;34m,\u001b[0m \u001b[0merrors\u001b[0m\u001b[0;34m.\u001b[0m\u001b[0mOutOfRangeError\u001b[0m\u001b[0;34m)\u001b[0m\u001b[0;34m:\u001b[0m\u001b[0;34m\u001b[0m\u001b[0;34m\u001b[0m\u001b[0m\n\u001b[1;32m    130\u001b[0m         \u001b[0;31m# TODO(kaftan): File bug about tf function and errors.OutOfRangeError?\u001b[0m\u001b[0;34m\u001b[0m\u001b[0;34m\u001b[0m\u001b[0;34m\u001b[0m\u001b[0m\n",
      "\u001b[0;32m/usr/local/lib/python3.6/dist-packages/tensorflow_core/python/keras/engine/training_v2_utils.py\u001b[0m in \u001b[0;36mexecution_function\u001b[0;34m(input_fn)\u001b[0m\n\u001b[1;32m     96\u001b[0m     \u001b[0;31m# `numpy` translates Tensors to values in Eager mode.\u001b[0m\u001b[0;34m\u001b[0m\u001b[0;34m\u001b[0m\u001b[0;34m\u001b[0m\u001b[0m\n\u001b[1;32m     97\u001b[0m     return nest.map_structure(_non_none_constant_value,\n\u001b[0;32m---> 98\u001b[0;31m                               distributed_function(input_fn))\n\u001b[0m\u001b[1;32m     99\u001b[0m \u001b[0;34m\u001b[0m\u001b[0m\n\u001b[1;32m    100\u001b[0m   \u001b[0;32mreturn\u001b[0m \u001b[0mexecution_function\u001b[0m\u001b[0;34m\u001b[0m\u001b[0;34m\u001b[0m\u001b[0m\n",
      "\u001b[0;32m/usr/local/lib/python3.6/dist-packages/tensorflow_core/python/eager/def_function.py\u001b[0m in \u001b[0;36m__call__\u001b[0;34m(self, *args, **kwds)\u001b[0m\n\u001b[1;32m    566\u001b[0m         \u001b[0mxla_context\u001b[0m\u001b[0;34m.\u001b[0m\u001b[0mExit\u001b[0m\u001b[0;34m(\u001b[0m\u001b[0;34m)\u001b[0m\u001b[0;34m\u001b[0m\u001b[0;34m\u001b[0m\u001b[0m\n\u001b[1;32m    567\u001b[0m     \u001b[0;32melse\u001b[0m\u001b[0;34m:\u001b[0m\u001b[0;34m\u001b[0m\u001b[0;34m\u001b[0m\u001b[0m\n\u001b[0;32m--> 568\u001b[0;31m       \u001b[0mresult\u001b[0m \u001b[0;34m=\u001b[0m \u001b[0mself\u001b[0m\u001b[0;34m.\u001b[0m\u001b[0m_call\u001b[0m\u001b[0;34m(\u001b[0m\u001b[0;34m*\u001b[0m\u001b[0margs\u001b[0m\u001b[0;34m,\u001b[0m \u001b[0;34m**\u001b[0m\u001b[0mkwds\u001b[0m\u001b[0;34m)\u001b[0m\u001b[0;34m\u001b[0m\u001b[0;34m\u001b[0m\u001b[0m\n\u001b[0m\u001b[1;32m    569\u001b[0m \u001b[0;34m\u001b[0m\u001b[0m\n\u001b[1;32m    570\u001b[0m     \u001b[0;32mif\u001b[0m \u001b[0mtracing_count\u001b[0m \u001b[0;34m==\u001b[0m \u001b[0mself\u001b[0m\u001b[0;34m.\u001b[0m\u001b[0m_get_tracing_count\u001b[0m\u001b[0;34m(\u001b[0m\u001b[0;34m)\u001b[0m\u001b[0;34m:\u001b[0m\u001b[0;34m\u001b[0m\u001b[0;34m\u001b[0m\u001b[0m\n",
      "\u001b[0;32m/usr/local/lib/python3.6/dist-packages/tensorflow_core/python/eager/def_function.py\u001b[0m in \u001b[0;36m_call\u001b[0;34m(self, *args, **kwds)\u001b[0m\n\u001b[1;32m    597\u001b[0m       \u001b[0;31m# In this case we have created variables on the first call, so we run the\u001b[0m\u001b[0;34m\u001b[0m\u001b[0;34m\u001b[0m\u001b[0;34m\u001b[0m\u001b[0m\n\u001b[1;32m    598\u001b[0m       \u001b[0;31m# defunned version which is guaranteed to never create variables.\u001b[0m\u001b[0;34m\u001b[0m\u001b[0;34m\u001b[0m\u001b[0;34m\u001b[0m\u001b[0m\n\u001b[0;32m--> 599\u001b[0;31m       \u001b[0;32mreturn\u001b[0m \u001b[0mself\u001b[0m\u001b[0;34m.\u001b[0m\u001b[0m_stateless_fn\u001b[0m\u001b[0;34m(\u001b[0m\u001b[0;34m*\u001b[0m\u001b[0margs\u001b[0m\u001b[0;34m,\u001b[0m \u001b[0;34m**\u001b[0m\u001b[0mkwds\u001b[0m\u001b[0;34m)\u001b[0m  \u001b[0;31m# pylint: disable=not-callable\u001b[0m\u001b[0;34m\u001b[0m\u001b[0;34m\u001b[0m\u001b[0m\n\u001b[0m\u001b[1;32m    600\u001b[0m     \u001b[0;32melif\u001b[0m \u001b[0mself\u001b[0m\u001b[0;34m.\u001b[0m\u001b[0m_stateful_fn\u001b[0m \u001b[0;32mis\u001b[0m \u001b[0;32mnot\u001b[0m \u001b[0;32mNone\u001b[0m\u001b[0;34m:\u001b[0m\u001b[0;34m\u001b[0m\u001b[0;34m\u001b[0m\u001b[0m\n\u001b[1;32m    601\u001b[0m       \u001b[0;31m# Release the lock early so that multiple threads can perform the call\u001b[0m\u001b[0;34m\u001b[0m\u001b[0;34m\u001b[0m\u001b[0;34m\u001b[0m\u001b[0m\n",
      "\u001b[0;32m/usr/local/lib/python3.6/dist-packages/tensorflow_core/python/eager/function.py\u001b[0m in \u001b[0;36m__call__\u001b[0;34m(self, *args, **kwargs)\u001b[0m\n\u001b[1;32m   2361\u001b[0m     \u001b[0;32mwith\u001b[0m \u001b[0mself\u001b[0m\u001b[0;34m.\u001b[0m\u001b[0m_lock\u001b[0m\u001b[0;34m:\u001b[0m\u001b[0;34m\u001b[0m\u001b[0;34m\u001b[0m\u001b[0m\n\u001b[1;32m   2362\u001b[0m       \u001b[0mgraph_function\u001b[0m\u001b[0;34m,\u001b[0m \u001b[0margs\u001b[0m\u001b[0;34m,\u001b[0m \u001b[0mkwargs\u001b[0m \u001b[0;34m=\u001b[0m \u001b[0mself\u001b[0m\u001b[0;34m.\u001b[0m\u001b[0m_maybe_define_function\u001b[0m\u001b[0;34m(\u001b[0m\u001b[0margs\u001b[0m\u001b[0;34m,\u001b[0m \u001b[0mkwargs\u001b[0m\u001b[0;34m)\u001b[0m\u001b[0;34m\u001b[0m\u001b[0;34m\u001b[0m\u001b[0m\n\u001b[0;32m-> 2363\u001b[0;31m     \u001b[0;32mreturn\u001b[0m \u001b[0mgraph_function\u001b[0m\u001b[0;34m.\u001b[0m\u001b[0m_filtered_call\u001b[0m\u001b[0;34m(\u001b[0m\u001b[0margs\u001b[0m\u001b[0;34m,\u001b[0m \u001b[0mkwargs\u001b[0m\u001b[0;34m)\u001b[0m  \u001b[0;31m# pylint: disable=protected-access\u001b[0m\u001b[0;34m\u001b[0m\u001b[0;34m\u001b[0m\u001b[0m\n\u001b[0m\u001b[1;32m   2364\u001b[0m \u001b[0;34m\u001b[0m\u001b[0m\n\u001b[1;32m   2365\u001b[0m   \u001b[0;34m@\u001b[0m\u001b[0mproperty\u001b[0m\u001b[0;34m\u001b[0m\u001b[0;34m\u001b[0m\u001b[0m\n",
      "\u001b[0;32m/usr/local/lib/python3.6/dist-packages/tensorflow_core/python/eager/function.py\u001b[0m in \u001b[0;36m_filtered_call\u001b[0;34m(self, args, kwargs)\u001b[0m\n\u001b[1;32m   1609\u001b[0m          if isinstance(t, (ops.Tensor,\n\u001b[1;32m   1610\u001b[0m                            resource_variable_ops.BaseResourceVariable))),\n\u001b[0;32m-> 1611\u001b[0;31m         self.captured_inputs)\n\u001b[0m\u001b[1;32m   1612\u001b[0m \u001b[0;34m\u001b[0m\u001b[0m\n\u001b[1;32m   1613\u001b[0m   \u001b[0;32mdef\u001b[0m \u001b[0m_call_flat\u001b[0m\u001b[0;34m(\u001b[0m\u001b[0mself\u001b[0m\u001b[0;34m,\u001b[0m \u001b[0margs\u001b[0m\u001b[0;34m,\u001b[0m \u001b[0mcaptured_inputs\u001b[0m\u001b[0;34m,\u001b[0m \u001b[0mcancellation_manager\u001b[0m\u001b[0;34m=\u001b[0m\u001b[0;32mNone\u001b[0m\u001b[0;34m)\u001b[0m\u001b[0;34m:\u001b[0m\u001b[0;34m\u001b[0m\u001b[0;34m\u001b[0m\u001b[0m\n",
      "\u001b[0;32m/usr/local/lib/python3.6/dist-packages/tensorflow_core/python/eager/function.py\u001b[0m in \u001b[0;36m_call_flat\u001b[0;34m(self, args, captured_inputs, cancellation_manager)\u001b[0m\n\u001b[1;32m   1690\u001b[0m       \u001b[0;31m# No tape is watching; skip to running the function.\u001b[0m\u001b[0;34m\u001b[0m\u001b[0;34m\u001b[0m\u001b[0;34m\u001b[0m\u001b[0m\n\u001b[1;32m   1691\u001b[0m       return self._build_call_outputs(self._inference_function.call(\n\u001b[0;32m-> 1692\u001b[0;31m           ctx, args, cancellation_manager=cancellation_manager))\n\u001b[0m\u001b[1;32m   1693\u001b[0m     forward_backward = self._select_forward_and_backward_functions(\n\u001b[1;32m   1694\u001b[0m         \u001b[0margs\u001b[0m\u001b[0;34m,\u001b[0m\u001b[0;34m\u001b[0m\u001b[0;34m\u001b[0m\u001b[0m\n",
      "\u001b[0;32m/usr/local/lib/python3.6/dist-packages/tensorflow_core/python/eager/function.py\u001b[0m in \u001b[0;36mcall\u001b[0;34m(self, ctx, args, cancellation_manager)\u001b[0m\n\u001b[1;32m    543\u001b[0m               \u001b[0minputs\u001b[0m\u001b[0;34m=\u001b[0m\u001b[0margs\u001b[0m\u001b[0;34m,\u001b[0m\u001b[0;34m\u001b[0m\u001b[0;34m\u001b[0m\u001b[0m\n\u001b[1;32m    544\u001b[0m               \u001b[0mattrs\u001b[0m\u001b[0;34m=\u001b[0m\u001b[0;34m(\u001b[0m\u001b[0;34m\"executor_type\"\u001b[0m\u001b[0;34m,\u001b[0m \u001b[0mexecutor_type\u001b[0m\u001b[0;34m,\u001b[0m \u001b[0;34m\"config_proto\"\u001b[0m\u001b[0;34m,\u001b[0m \u001b[0mconfig\u001b[0m\u001b[0;34m)\u001b[0m\u001b[0;34m,\u001b[0m\u001b[0;34m\u001b[0m\u001b[0;34m\u001b[0m\u001b[0m\n\u001b[0;32m--> 545\u001b[0;31m               ctx=ctx)\n\u001b[0m\u001b[1;32m    546\u001b[0m         \u001b[0;32melse\u001b[0m\u001b[0;34m:\u001b[0m\u001b[0;34m\u001b[0m\u001b[0;34m\u001b[0m\u001b[0m\n\u001b[1;32m    547\u001b[0m           outputs = execute.execute_with_cancellation(\n",
      "\u001b[0;32m/usr/local/lib/python3.6/dist-packages/tensorflow_core/python/eager/execute.py\u001b[0m in \u001b[0;36mquick_execute\u001b[0;34m(op_name, num_outputs, inputs, attrs, ctx, name)\u001b[0m\n\u001b[1;32m     59\u001b[0m     tensors = pywrap_tensorflow.TFE_Py_Execute(ctx._handle, device_name,\n\u001b[1;32m     60\u001b[0m                                                \u001b[0mop_name\u001b[0m\u001b[0;34m,\u001b[0m \u001b[0minputs\u001b[0m\u001b[0;34m,\u001b[0m \u001b[0mattrs\u001b[0m\u001b[0;34m,\u001b[0m\u001b[0;34m\u001b[0m\u001b[0;34m\u001b[0m\u001b[0m\n\u001b[0;32m---> 61\u001b[0;31m                                                num_outputs)\n\u001b[0m\u001b[1;32m     62\u001b[0m   \u001b[0;32mexcept\u001b[0m \u001b[0mcore\u001b[0m\u001b[0;34m.\u001b[0m\u001b[0m_NotOkStatusException\u001b[0m \u001b[0;32mas\u001b[0m \u001b[0me\u001b[0m\u001b[0;34m:\u001b[0m\u001b[0;34m\u001b[0m\u001b[0;34m\u001b[0m\u001b[0m\n\u001b[1;32m     63\u001b[0m     \u001b[0;32mif\u001b[0m \u001b[0mname\u001b[0m \u001b[0;32mis\u001b[0m \u001b[0;32mnot\u001b[0m \u001b[0;32mNone\u001b[0m\u001b[0;34m:\u001b[0m\u001b[0;34m\u001b[0m\u001b[0;34m\u001b[0m\u001b[0m\n",
      "\u001b[0;31mKeyboardInterrupt\u001b[0m: "
     ]
    }
   ],
   "source": [
    "history = model.fit(dataset, epochs=EPOCHS, callbacks=[checkpoint_callback])"
   ]
  },
  {
   "cell_type": "code",
   "execution_count": 0,
   "metadata": {
    "colab": {
     "base_uri": "https://localhost:8080/",
     "height": 35
    },
    "colab_type": "code",
    "id": "2N51fqudr3ss",
    "outputId": "88c1d5c0-9dee-462d-9151-baee2481ab69"
   },
   "outputs": [
    {
     "data": {
      "text/plain": [
       "'./training_checkpoints/ckpt_100'"
      ]
     },
     "execution_count": 41,
     "metadata": {
      "tags": []
     },
     "output_type": "execute_result"
    }
   ],
   "source": [
    "tf.train.latest_checkpoint(checkpoint_dir)"
   ]
  },
  {
   "cell_type": "code",
   "execution_count": 0,
   "metadata": {
    "colab": {},
    "colab_type": "code",
    "id": "ndbP8YvNvZw0"
   },
   "outputs": [],
   "source": [
    "from google.colab import files\n",
    "files.download('./training_checkpoints/ckpt_100.index') \n",
    "files.download('./training_checkpoints/ckpt_100.data-00000-of-00002') \n",
    "files.download('./training_checkpoints/ckpt_100.data-00001-of-00002')"
   ]
  },
  {
   "cell_type": "markdown",
   "metadata": {
    "colab_type": "text",
    "id": "JmPu65S6vrLM"
   },
   "source": []
  },
  {
   "cell_type": "code",
   "execution_count": 0,
   "metadata": {
    "colab": {},
    "colab_type": "code",
    "id": "wjNFerkTvagr"
   },
   "outputs": [],
   "source": [
    "model = build_model(vocab_size, embedding_dim, rnn_units, batch_size=1)\n",
    "\n",
    "# model.load_weights(tf.train.latest_checkpoint(checkpoint_dir)) # './training_checkpoints/ckpt_30'\n",
    "model.load_weights('./training_checkpoints/ckpt_61')\n",
    "\n",
    "model.build(tf.TensorShape([1, None]))"
   ]
  },
  {
   "cell_type": "markdown",
   "metadata": {
    "colab_type": "text",
    "id": "OrUScPmEwAtd"
   },
   "source": [
    "## Text Generating"
   ]
  },
  {
   "cell_type": "code",
   "execution_count": 0,
   "metadata": {
    "colab": {},
    "colab_type": "code",
    "id": "cvQyWpjQvoPS"
   },
   "outputs": [],
   "source": [
    "def generate_text(model, start_string):\n",
    "  # Evaluation step (generating text using the learned model)\n",
    "\n",
    "  # Number of characters to generate\n",
    "  num_generate = 500\n",
    "\n",
    "  # Converting our start string to numbers (vectorizing)\n",
    "  input_eval = [char2idx[s] for s in start_string]\n",
    "  input_eval = tf.expand_dims(input_eval, 0)\n",
    "\n",
    "  # Empty string to store our results\n",
    "  text_generated = []\n",
    "\n",
    "  # Low temperatures results in more predictable text.\n",
    "  # Higher temperatures results in more surprising text.\n",
    "  # Experiment to find the best setting.\n",
    "  temperature = 1.0\n",
    "\n",
    "  # Here batch size == 1\n",
    "  model.reset_states()\n",
    "  for i in tqdm(range(num_generate)):\n",
    "      predictions = model(input_eval)\n",
    "      # remove the batch dimension\n",
    "      predictions = tf.squeeze(predictions, 0)\n",
    "\n",
    "      # using a categorical distribution to predict the character returned by the model\n",
    "      predictions = predictions / temperature\n",
    "      predicted_id = tf.random.categorical(predictions, num_samples=1)[-1,0].numpy()\n",
    "\n",
    "      # We pass the predicted character as the next input to the model\n",
    "      # along with the previous hidden state\n",
    "      input_eval = tf.expand_dims([predicted_id], 0)\n",
    "\n",
    "      text_generated.append(idx2char[predicted_id])\n",
    "\n",
    "  return (start_string + ''.join(text_generated))"
   ]
  },
  {
   "cell_type": "code",
   "execution_count": 0,
   "metadata": {
    "colab": {
     "base_uri": "https://localhost:8080/",
     "height": 147
    },
    "colab_type": "code",
    "id": "Svyp2jP6vya_",
    "outputId": "1c9e3da9-50e9-4644-8b8c-d5d8686e4ef7"
   },
   "outputs": [
    {
     "name": "stderr",
     "output_type": "stream",
     "text": [
      "100%|██████████| 500/500 [00:07<00:00, 66.82it/s]\n",
      "  1%|          | 3/500 [00:00<00:16, 29.92it/s]"
     ]
    },
    {
     "name": "stdout",
     "output_type": "stream",
     "text": [
      "The market closed at an all time high today, boding good signs for the future of the economy. The only of the votes of margins: She neere to say hypocritical, that is the daily braim of very supportive. As you know, which makes me make sure we do  Freme misogyness. ” (  Grabien) Follow Ian Hanchett on Twitter @IanHanchett During testimony was “after being passed. ”  Tuesday, Breitbart senior political analyst Matt Boyle on Twitter @pamkeyNEN advertisement Conservative and destroy the   prodence sprinned in at Bloomberg. “Yes, so flower rough in Iowa was anounded” people were being chadg\n"
     ]
    },
    {
     "name": "stderr",
     "output_type": "stream",
     "text": [
      "100%|██████████| 500/500 [00:07<00:00, 64.55it/s]\n",
      "  0%|          | 2/500 [00:00<00:26, 18.76it/s]"
     ]
    },
    {
     "name": "stdout",
     "output_type": "stream",
     "text": [
      "Yesterday in Russia, the 2018 FIFA World Cup concluded with a nail biter of a final match. The score in the end was 3 goals to 2. 0 did in place at major U. S. according to police, a woman sprints into the room shares will be speaking before President Donald Trump’s executive orders.  During an int Vice in Investigative Raddell in Belgian Airliness and another women over the arresor on the conclusion of the ancient racist executive creations. Florida government would be voted on social media: #myabulor before a conversation about a meeting at 44. 2 million regulations, and I think I goes thrown into the pandors, even long\n"
     ]
    },
    {
     "name": "stderr",
     "output_type": "stream",
     "text": [
      "100%|██████████| 500/500 [00:07<00:00, 63.71it/s]"
     ]
    },
    {
     "name": "stdout",
     "output_type": "stream",
     "text": [
      "The news coming from Washington was a shock to everyone across the nation. There will be long lasting impacts of the legislation signed into law today, declared the Speaker of the House. President, Voters Weight Tech convention since Monica Lewinsky.  The event was coverage out an update of meetings will be willing to jail on ABC’s “This Week,” Fively work on the relationships in Istanbul was a refugees at work Times columnist David Brooks argued that you never toured: No is so cowardick at all. From the Revolutionary Communist Parm in Pennsylvania, GOP presidential candidate Texas Senator Chuck Smith said President Donald Trump “will be insistent of the attack, but no other in\n"
     ]
    },
    {
     "name": "stderr",
     "output_type": "stream",
     "text": [
      "\n"
     ]
    }
   ],
   "source": [
    "print(generate_text(model, start_string=u\"The market closed at an all time high today, boding good signs for the future of the economy.\"))\n",
    "\n",
    "print(generate_text(model, start_string=u\"Yesterday in Russia, the 2018 FIFA World Cup concluded with a nail biter of a final match. The score in the end was 3 goals to 2.\"))\n",
    "\n",
    "print(generate_text(model, start_string=u\"The news coming from Washington was a shock to everyone across the nation. There will be long lasting impacts of the legislation signed into law today, declared the Speaker of the House.\"))\n",
    "\n"
   ]
  },
  {
   "cell_type": "markdown",
   "metadata": {
    "colab_type": "text",
    "id": "Q2lwU0vZkdTl"
   },
   "source": [
    "  1%|          | 4/500 [00:00<00:13, 35.58it/s]\n",
    "\n",
    "The market closed at an all time high today, boding good signs for the future of the economy. ” Follow John Nolte on Twitter @NolteNC                     Donald Trump’s approval rants suspect Live from London, Rome, and Jerusalem, Breitbart    Alex Marlow will discuss the full speech due Crom, in ornkerman wound devaction of Clinton’s day in the victim, this is everything that will do that? MO. [Andrew Jackson in her effort. Trump (@realDonaldTrump) January 27, 2016,  Teld the residents “necle” is not a “high speed of foses. ” State Department to report that the Trump surprise for Democ\n"
   ]
  },
  {
   "cell_type": "markdown",
   "metadata": {
    "colab_type": "text",
    "id": "_pB9Cw-Wvp9v"
   },
   "source": [
    "  0%|          | 2/500 [00:00<00:26, 18.91it/s]\n",
    "\n",
    "Yesterday in Russia, the 2018 FIFA World Cup concluded with a nail biter of a final match. The score in the end was 3 goals to 2. 5 died in 1979 and said, “You know what, the temptate to give him hith Marco Rubio “bringing racist security measures in baseball.  Somali system was exposed her for the Vataness views with former Gov. Mitt Romney also “now any of that as for the extremists consider mainstream media to the Atlanta West. Vox, Orio Panel discuss the country’s unprecedented damage in particular in the week protested by the president. [From the Huffington Post:  Not sice is over Twitter and Facebook Chief over poli\n"
   ]
  },
  {
   "cell_type": "markdown",
   "metadata": {
    "colab_type": "text",
    "id": "VhmBG2X0kyCI"
   },
   "source": [
    "100%|██████████| 500/500 [00:07<00:00, 67.98it/s]\n",
    "\n",
    "The news coming from Washington was a shock to everyone across the nation. There will be long lasting impacts of the legislation signed into law today, declared the Speaker of the House. As far as wife as the hopes will back and that our poor injustice in these inees. Barring police of white voters had the beat Trump doesn’t apply to him. And I believe that view of it’s because the man will likely through the same second in Washington. D. C. on Friday approved a bill tim is wy stands for. ” She argued this week not to you are in this new Bill Maher added. The Clinton campaign accused Trump of reacting poorly to nine percent are racism. Amarkley will deterte for which message to\n"
   ]
  },
  {
   "cell_type": "code",
   "execution_count": 0,
   "metadata": {
    "colab": {
     "base_uri": "https://localhost:8080/",
     "height": 74
    },
    "colab_type": "code",
    "id": "re8DazkCkzph",
    "outputId": "9fe714a1-fc82-46dc-a832-be69c31f654b"
   },
   "outputs": [
    {
     "name": "stderr",
     "output_type": "stream",
     "text": [
      "100%|██████████| 500/500 [00:07<00:00, 68.15it/s]"
     ]
    },
    {
     "name": "stdout",
     "output_type": "stream",
     "text": [
      "A Chase bank near the University of Texas at Austin campus was robbed today than Trump was getting more so by his latest conservative agenda.  When asked why America is facing their voices, he is not an issue at a gay people in the room undergo and do the subway system. ” The column endide an ouspi or slailing day for empty while owher this country has been arrested. [Valerie Starushok, McCarthy Spoke Battley were ullegedly when it counts us being to run for two hours. The event begins at 7pm, in an election is one issue of equal on a border wall as part of a crooked p\n"
     ]
    },
    {
     "name": "stderr",
     "output_type": "stream",
     "text": [
      "\n"
     ]
    }
   ],
   "source": [
    "print(generate_text(model, start_string=u\"A Chase bank near the University of Texas at Austin campus was robbed today\"))\n"
   ]
  },
  {
   "cell_type": "markdown",
   "metadata": {
    "colab_type": "text",
    "id": "xuvZaVRi88El"
   },
   "source": [
    "A Chase bank near the University of Texas at Austin campus was robbed today than Trump was getting more so by his latest conservative agenda.  When asked why America is facing their voices, he is not an issue at a gay people in the room undergo and do the subway system. ” The column endide an ouspi or slailing day for empty while owher this country has been arrested. [Valerie Starushok, McCarthy Spoke Battley were ullegedly when it counts us being to run for two hours. The event begins at 7pm, in an election is one issue of equal on a border wall as part of a crooked p\n",
    "\n",
    "\n"
   ]
  },
  {
   "cell_type": "code",
   "execution_count": 0,
   "metadata": {
    "colab": {},
    "colab_type": "code",
    "id": "FzXYGdI-39qi"
   },
   "outputs": [],
   "source": []
  }
 ],
 "metadata": {
  "accelerator": "GPU",
  "colab": {
   "collapsed_sections": [],
   "name": "FakeNewsGenerator.ipynb",
   "provenance": [],
   "toc_visible": true
  },
  "kernelspec": {
   "display_name": "Python 3",
   "language": "python",
   "name": "python3"
  },
  "language_info": {
   "codemirror_mode": {
    "name": "ipython",
    "version": 3
   },
   "file_extension": ".py",
   "mimetype": "text/x-python",
   "name": "python",
   "nbconvert_exporter": "python",
   "pygments_lexer": "ipython3",
   "version": "3.7.4"
  }
 },
 "nbformat": 4,
 "nbformat_minor": 1
}
